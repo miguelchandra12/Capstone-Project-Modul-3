{
 "cells": [
  {
   "attachments": {},
   "cell_type": "markdown",
   "metadata": {},
   "source": [
    "# Dataset\n",
    "Dataset yang diambil untuk project ini merupakan dataset bank marketing campaign dimana bank memiliki sistem dimana pelanggan / client akan menyimpan uang pada bank dimana bank akan memberikan bunga fixed pada pelanggan tersebut. Terdapat beberapa bank sehingga hal ini menimbulkan sebuah persaingan antar bank untuk menjaga customer / client agar tetap melakukan deposit pada bank tersebut sehingga dilakukan bank marketing campaign untuk meminimalisir terjadinya kehilangan customer / client. Berikut merupakan penjelasan sekilas dari data yang terdapat pada dataset ini.\n",
    "\n",
    "Feature\n",
    "* `age` : Umur dari pelanggan\n",
    "* `job` : Bidang pekerjaan pelanggan\n",
    "* `balance` : Jumlah rekening bank dari pelanggan\n",
    "* `housing` : Customer sedang memiliki cicilan rumah atau tidak\n",
    "* `loan` : Customer sedang memiliki utang atau tidak\n",
    "* `contact`: Tipe komunikasi kontak.\n",
    "* `month`: Bulan terakhir contact.\n",
    "* `campaign`: Jumlah kontak dilakukan pada campaign ini.\n",
    "* `pdays`: Jumlah hari setelah client dikontak dari campaign sebelumnya.\n",
    "* `poutcome`: Outcome dari marketing campaign sebelumnya.\n",
    "\n",
    "Target\n",
    "* `deposit`: Apakah customer melakukan deposit atau tidak.\n",
    "\n",
    "Dari tujuan yang ingin dicapai oleh bank marketing campaign, maka penelitian ini akan difokuskan untuk memodelkan sebuah model machine learning yang dapat melakukan prediksi mengenai apakah customer akan melakukan deposit atau tidak berdasarkan feature yang ada dimana hal ini dapat dijadikan sebagai basis untuk bank dalam memberikan perlakuan pada customer. Seperti contohnya, pelanggan yang diprediksikan tidak melakukan deposit mungkin dapat diberikan perlakuan khusus agar customer tersebut tetap melakukan deposit atau hal lain semacam ini."
   ]
  },
  {
   "cell_type": "code",
   "execution_count": 1,
   "metadata": {},
   "outputs": [],
   "source": [
    "import numpy as np\n",
    "import pandas as pd\n",
    "import matplotlib.pyplot as plt\n",
    "import seaborn as sns\n",
    "\n",
    "# Data Preprocessing & feature engineering\n",
    "from sklearn.compose import ColumnTransformer\n",
    "from sklearn.impute import SimpleImputer,MissingIndicator\n",
    "from sklearn.preprocessing import RobustScaler, OneHotEncoder, StandardScaler, MinMaxScaler\n",
    "from sklearn.feature_selection import SelectKBest, SelectFromModel, RFE\n",
    "\n",
    "# Model\n",
    "from sklearn.linear_model import LogisticRegression\n",
    "from sklearn.tree import DecisionTreeClassifier\n",
    "from sklearn.neighbors import KNeighborsClassifier\n",
    "\n",
    "# Model validation & evaluation\n",
    "from sklearn.model_selection import train_test_split, cross_val_score, KFold, StratifiedKFold, GridSearchCV\n",
    "from sklearn.metrics import  confusion_matrix, ConfusionMatrixDisplay, accuracy_score, classification_report, f1_score\n",
    "\n",
    "# Pipeline\n",
    "from sklearn.pipeline import Pipeline\n",
    "import warnings\n",
    "import category_encoders as ce"
   ]
  },
  {
   "cell_type": "code",
   "execution_count": 2,
   "metadata": {},
   "outputs": [],
   "source": [
    "warnings.filterwarnings(\"ignore\")"
   ]
  },
  {
   "cell_type": "code",
   "execution_count": 3,
   "metadata": {},
   "outputs": [
    {
     "name": "stdout",
     "output_type": "stream",
     "text": [
      "<class 'pandas.core.frame.DataFrame'>\n",
      "RangeIndex: 7813 entries, 0 to 7812\n",
      "Data columns (total 11 columns):\n",
      " #   Column    Non-Null Count  Dtype \n",
      "---  ------    --------------  ----- \n",
      " 0   age       7813 non-null   int64 \n",
      " 1   job       7813 non-null   object\n",
      " 2   balance   7813 non-null   int64 \n",
      " 3   housing   7813 non-null   object\n",
      " 4   loan      7813 non-null   object\n",
      " 5   contact   7813 non-null   object\n",
      " 6   month     7813 non-null   object\n",
      " 7   campaign  7813 non-null   int64 \n",
      " 8   pdays     7813 non-null   int64 \n",
      " 9   poutcome  7813 non-null   object\n",
      " 10  deposit   7813 non-null   object\n",
      "dtypes: int64(4), object(7)\n",
      "memory usage: 671.6+ KB\n"
     ]
    }
   ],
   "source": [
    "df = pd.read_csv('data_bank_marketing_campaign.csv')\n",
    "df.info()"
   ]
  },
  {
   "cell_type": "code",
   "execution_count": 4,
   "metadata": {},
   "outputs": [
    {
     "data": {
      "text/plain": [
       "age         0\n",
       "job         0\n",
       "balance     0\n",
       "housing     0\n",
       "loan        0\n",
       "contact     0\n",
       "month       0\n",
       "campaign    0\n",
       "pdays       0\n",
       "poutcome    0\n",
       "deposit     0\n",
       "dtype: int64"
      ]
     },
     "execution_count": 4,
     "metadata": {},
     "output_type": "execute_result"
    }
   ],
   "source": [
    "df.isna().sum()"
   ]
  },
  {
   "attachments": {},
   "cell_type": "markdown",
   "metadata": {},
   "source": [
    "Tidak ada missing data yang ditemukan"
   ]
  },
  {
   "cell_type": "code",
   "execution_count": 5,
   "metadata": {},
   "outputs": [
    {
     "data": {
      "text/html": [
       "<div>\n",
       "<style scoped>\n",
       "    .dataframe tbody tr th:only-of-type {\n",
       "        vertical-align: middle;\n",
       "    }\n",
       "\n",
       "    .dataframe tbody tr th {\n",
       "        vertical-align: top;\n",
       "    }\n",
       "\n",
       "    .dataframe thead th {\n",
       "        text-align: right;\n",
       "    }\n",
       "</style>\n",
       "<table border=\"1\" class=\"dataframe\">\n",
       "  <thead>\n",
       "    <tr style=\"text-align: right;\">\n",
       "      <th></th>\n",
       "      <th>age</th>\n",
       "      <th>job</th>\n",
       "      <th>balance</th>\n",
       "      <th>housing</th>\n",
       "      <th>loan</th>\n",
       "      <th>contact</th>\n",
       "      <th>month</th>\n",
       "      <th>campaign</th>\n",
       "      <th>pdays</th>\n",
       "      <th>poutcome</th>\n",
       "      <th>deposit</th>\n",
       "    </tr>\n",
       "  </thead>\n",
       "  <tbody>\n",
       "    <tr>\n",
       "      <th>0</th>\n",
       "      <td>55</td>\n",
       "      <td>admin.</td>\n",
       "      <td>1662</td>\n",
       "      <td>no</td>\n",
       "      <td>no</td>\n",
       "      <td>cellular</td>\n",
       "      <td>jun</td>\n",
       "      <td>2</td>\n",
       "      <td>-1</td>\n",
       "      <td>unknown</td>\n",
       "      <td>yes</td>\n",
       "    </tr>\n",
       "    <tr>\n",
       "      <th>1</th>\n",
       "      <td>39</td>\n",
       "      <td>self-employed</td>\n",
       "      <td>-3058</td>\n",
       "      <td>yes</td>\n",
       "      <td>yes</td>\n",
       "      <td>cellular</td>\n",
       "      <td>apr</td>\n",
       "      <td>3</td>\n",
       "      <td>-1</td>\n",
       "      <td>unknown</td>\n",
       "      <td>yes</td>\n",
       "    </tr>\n",
       "    <tr>\n",
       "      <th>2</th>\n",
       "      <td>51</td>\n",
       "      <td>admin.</td>\n",
       "      <td>3025</td>\n",
       "      <td>no</td>\n",
       "      <td>no</td>\n",
       "      <td>cellular</td>\n",
       "      <td>may</td>\n",
       "      <td>1</td>\n",
       "      <td>352</td>\n",
       "      <td>other</td>\n",
       "      <td>yes</td>\n",
       "    </tr>\n",
       "    <tr>\n",
       "      <th>3</th>\n",
       "      <td>38</td>\n",
       "      <td>services</td>\n",
       "      <td>-87</td>\n",
       "      <td>yes</td>\n",
       "      <td>no</td>\n",
       "      <td>cellular</td>\n",
       "      <td>may</td>\n",
       "      <td>1</td>\n",
       "      <td>-1</td>\n",
       "      <td>unknown</td>\n",
       "      <td>no</td>\n",
       "    </tr>\n",
       "    <tr>\n",
       "      <th>4</th>\n",
       "      <td>36</td>\n",
       "      <td>housemaid</td>\n",
       "      <td>205</td>\n",
       "      <td>yes</td>\n",
       "      <td>no</td>\n",
       "      <td>telephone</td>\n",
       "      <td>nov</td>\n",
       "      <td>4</td>\n",
       "      <td>-1</td>\n",
       "      <td>unknown</td>\n",
       "      <td>no</td>\n",
       "    </tr>\n",
       "  </tbody>\n",
       "</table>\n",
       "</div>"
      ],
      "text/plain": [
       "   age            job  balance housing loan    contact month  campaign  pdays  \\\n",
       "0   55         admin.     1662      no   no   cellular   jun         2     -1   \n",
       "1   39  self-employed    -3058     yes  yes   cellular   apr         3     -1   \n",
       "2   51         admin.     3025      no   no   cellular   may         1    352   \n",
       "3   38       services      -87     yes   no   cellular   may         1     -1   \n",
       "4   36      housemaid      205     yes   no  telephone   nov         4     -1   \n",
       "\n",
       "  poutcome deposit  \n",
       "0  unknown     yes  \n",
       "1  unknown     yes  \n",
       "2    other     yes  \n",
       "3  unknown      no  \n",
       "4  unknown      no  "
      ]
     },
     "execution_count": 5,
     "metadata": {},
     "output_type": "execute_result"
    }
   ],
   "source": [
    "df.head()"
   ]
  },
  {
   "cell_type": "code",
   "execution_count": 6,
   "metadata": {},
   "outputs": [
    {
     "data": {
      "text/html": [
       "<div>\n",
       "<style scoped>\n",
       "    .dataframe tbody tr th:only-of-type {\n",
       "        vertical-align: middle;\n",
       "    }\n",
       "\n",
       "    .dataframe tbody tr th {\n",
       "        vertical-align: top;\n",
       "    }\n",
       "\n",
       "    .dataframe thead th {\n",
       "        text-align: right;\n",
       "    }\n",
       "</style>\n",
       "<table border=\"1\" class=\"dataframe\">\n",
       "  <thead>\n",
       "    <tr style=\"text-align: right;\">\n",
       "      <th></th>\n",
       "      <th>age</th>\n",
       "      <th>balance</th>\n",
       "      <th>campaign</th>\n",
       "      <th>pdays</th>\n",
       "    </tr>\n",
       "  </thead>\n",
       "  <tbody>\n",
       "    <tr>\n",
       "      <th>count</th>\n",
       "      <td>7813.000000</td>\n",
       "      <td>7813.000000</td>\n",
       "      <td>7813.000000</td>\n",
       "      <td>7813.000000</td>\n",
       "    </tr>\n",
       "    <tr>\n",
       "      <th>mean</th>\n",
       "      <td>41.257264</td>\n",
       "      <td>1512.448611</td>\n",
       "      <td>2.519775</td>\n",
       "      <td>51.408550</td>\n",
       "    </tr>\n",
       "    <tr>\n",
       "      <th>std</th>\n",
       "      <td>11.919710</td>\n",
       "      <td>3089.291831</td>\n",
       "      <td>2.727001</td>\n",
       "      <td>108.072739</td>\n",
       "    </tr>\n",
       "    <tr>\n",
       "      <th>min</th>\n",
       "      <td>18.000000</td>\n",
       "      <td>-6847.000000</td>\n",
       "      <td>1.000000</td>\n",
       "      <td>-1.000000</td>\n",
       "    </tr>\n",
       "    <tr>\n",
       "      <th>25%</th>\n",
       "      <td>32.000000</td>\n",
       "      <td>127.000000</td>\n",
       "      <td>1.000000</td>\n",
       "      <td>-1.000000</td>\n",
       "    </tr>\n",
       "    <tr>\n",
       "      <th>50%</th>\n",
       "      <td>39.000000</td>\n",
       "      <td>549.000000</td>\n",
       "      <td>2.000000</td>\n",
       "      <td>-1.000000</td>\n",
       "    </tr>\n",
       "    <tr>\n",
       "      <th>75%</th>\n",
       "      <td>49.000000</td>\n",
       "      <td>1684.000000</td>\n",
       "      <td>3.000000</td>\n",
       "      <td>40.000000</td>\n",
       "    </tr>\n",
       "    <tr>\n",
       "      <th>max</th>\n",
       "      <td>95.000000</td>\n",
       "      <td>66653.000000</td>\n",
       "      <td>63.000000</td>\n",
       "      <td>854.000000</td>\n",
       "    </tr>\n",
       "  </tbody>\n",
       "</table>\n",
       "</div>"
      ],
      "text/plain": [
       "               age       balance     campaign        pdays\n",
       "count  7813.000000   7813.000000  7813.000000  7813.000000\n",
       "mean     41.257264   1512.448611     2.519775    51.408550\n",
       "std      11.919710   3089.291831     2.727001   108.072739\n",
       "min      18.000000  -6847.000000     1.000000    -1.000000\n",
       "25%      32.000000    127.000000     1.000000    -1.000000\n",
       "50%      39.000000    549.000000     2.000000    -1.000000\n",
       "75%      49.000000   1684.000000     3.000000    40.000000\n",
       "max      95.000000  66653.000000    63.000000   854.000000"
      ]
     },
     "execution_count": 6,
     "metadata": {},
     "output_type": "execute_result"
    }
   ],
   "source": [
    "df.describe()"
   ]
  },
  {
   "cell_type": "code",
   "execution_count": 7,
   "metadata": {},
   "outputs": [
    {
     "name": "stdout",
     "output_type": "stream",
     "text": [
      "Number of outlier in column age : 121\n",
      "Number of outlier in column balance : 736\n",
      "Number of outlier in column campaign : 429\n",
      "Number of outlier in column pdays : 1454\n"
     ]
    }
   ],
   "source": [
    "numerical_cols = df.select_dtypes(include=['int']).columns\n",
    "for i in numerical_cols:\n",
    "    if i == 'deposit':\n",
    "        break\n",
    "\n",
    "    Q1 = df[i].quantile(0.25)\n",
    "    Q3 = df[i].quantile(0.75)\n",
    "    IQR = Q3 - Q1\n",
    "    outliers = ((df[i] < (Q1 - 1.5 * IQR)) | (df[i] > (Q3 + 1.5 * IQR)))\n",
    "    print(f\"Number of outlier in column {i} : {len(df[i].loc[outliers])}\")"
   ]
  },
  {
   "attachments": {},
   "cell_type": "markdown",
   "metadata": {},
   "source": [
    "Dari data ini, terdapat beberapa outlier yang ditemukan namun data outlier ini dapat dipertahankan karena akan diberikan perlakuan menggunakan RobustScaler untuk melakukan normalisasi data"
   ]
  },
  {
   "attachments": {},
   "cell_type": "markdown",
   "metadata": {},
   "source": [
    "# Data Preprocessing & Feature Engineering"
   ]
  },
  {
   "cell_type": "code",
   "execution_count": 8,
   "metadata": {},
   "outputs": [
    {
     "name": "stdout",
     "output_type": "stream",
     "text": [
      "1\n",
      "63\n",
      "2.5197747344169974\n"
     ]
    }
   ],
   "source": [
    "print(df['campaign'].min())\n",
    "print(df['campaign'].max())\n",
    "print(df['campaign'].mean())"
   ]
  },
  {
   "cell_type": "code",
   "execution_count": 9,
   "metadata": {},
   "outputs": [],
   "source": [
    "def contact_frequency(x):\n",
    "    if x > 0 and x < 3:\n",
    "        return \"Rarely Contacted\"\n",
    "    elif x >= 3 and x <= 5:\n",
    "        return \"Moderately Contacted\"\n",
    "    else:\n",
    "        return \"Frequently Contacted\""
   ]
  },
  {
   "cell_type": "code",
   "execution_count": 10,
   "metadata": {},
   "outputs": [],
   "source": [
    "df['contact_frequency'] = df['campaign'].apply(contact_frequency)"
   ]
  },
  {
   "cell_type": "code",
   "execution_count": 11,
   "metadata": {},
   "outputs": [
    {
     "data": {
      "text/html": [
       "<div>\n",
       "<style scoped>\n",
       "    .dataframe tbody tr th:only-of-type {\n",
       "        vertical-align: middle;\n",
       "    }\n",
       "\n",
       "    .dataframe tbody tr th {\n",
       "        vertical-align: top;\n",
       "    }\n",
       "\n",
       "    .dataframe thead th {\n",
       "        text-align: right;\n",
       "    }\n",
       "</style>\n",
       "<table border=\"1\" class=\"dataframe\">\n",
       "  <thead>\n",
       "    <tr style=\"text-align: right;\">\n",
       "      <th></th>\n",
       "      <th>age</th>\n",
       "      <th>job</th>\n",
       "      <th>balance</th>\n",
       "      <th>housing</th>\n",
       "      <th>loan</th>\n",
       "      <th>contact</th>\n",
       "      <th>month</th>\n",
       "      <th>campaign</th>\n",
       "      <th>pdays</th>\n",
       "      <th>poutcome</th>\n",
       "      <th>deposit</th>\n",
       "      <th>contact_frequency</th>\n",
       "    </tr>\n",
       "  </thead>\n",
       "  <tbody>\n",
       "    <tr>\n",
       "      <th>0</th>\n",
       "      <td>55</td>\n",
       "      <td>admin.</td>\n",
       "      <td>1662</td>\n",
       "      <td>no</td>\n",
       "      <td>no</td>\n",
       "      <td>cellular</td>\n",
       "      <td>jun</td>\n",
       "      <td>2</td>\n",
       "      <td>-1</td>\n",
       "      <td>unknown</td>\n",
       "      <td>yes</td>\n",
       "      <td>Rarely Contacted</td>\n",
       "    </tr>\n",
       "    <tr>\n",
       "      <th>1</th>\n",
       "      <td>39</td>\n",
       "      <td>self-employed</td>\n",
       "      <td>-3058</td>\n",
       "      <td>yes</td>\n",
       "      <td>yes</td>\n",
       "      <td>cellular</td>\n",
       "      <td>apr</td>\n",
       "      <td>3</td>\n",
       "      <td>-1</td>\n",
       "      <td>unknown</td>\n",
       "      <td>yes</td>\n",
       "      <td>Moderately Contacted</td>\n",
       "    </tr>\n",
       "    <tr>\n",
       "      <th>2</th>\n",
       "      <td>51</td>\n",
       "      <td>admin.</td>\n",
       "      <td>3025</td>\n",
       "      <td>no</td>\n",
       "      <td>no</td>\n",
       "      <td>cellular</td>\n",
       "      <td>may</td>\n",
       "      <td>1</td>\n",
       "      <td>352</td>\n",
       "      <td>other</td>\n",
       "      <td>yes</td>\n",
       "      <td>Rarely Contacted</td>\n",
       "    </tr>\n",
       "    <tr>\n",
       "      <th>3</th>\n",
       "      <td>38</td>\n",
       "      <td>services</td>\n",
       "      <td>-87</td>\n",
       "      <td>yes</td>\n",
       "      <td>no</td>\n",
       "      <td>cellular</td>\n",
       "      <td>may</td>\n",
       "      <td>1</td>\n",
       "      <td>-1</td>\n",
       "      <td>unknown</td>\n",
       "      <td>no</td>\n",
       "      <td>Rarely Contacted</td>\n",
       "    </tr>\n",
       "    <tr>\n",
       "      <th>4</th>\n",
       "      <td>36</td>\n",
       "      <td>housemaid</td>\n",
       "      <td>205</td>\n",
       "      <td>yes</td>\n",
       "      <td>no</td>\n",
       "      <td>telephone</td>\n",
       "      <td>nov</td>\n",
       "      <td>4</td>\n",
       "      <td>-1</td>\n",
       "      <td>unknown</td>\n",
       "      <td>no</td>\n",
       "      <td>Moderately Contacted</td>\n",
       "    </tr>\n",
       "  </tbody>\n",
       "</table>\n",
       "</div>"
      ],
      "text/plain": [
       "   age            job  balance housing loan    contact month  campaign  pdays  \\\n",
       "0   55         admin.     1662      no   no   cellular   jun         2     -1   \n",
       "1   39  self-employed    -3058     yes  yes   cellular   apr         3     -1   \n",
       "2   51         admin.     3025      no   no   cellular   may         1    352   \n",
       "3   38       services      -87     yes   no   cellular   may         1     -1   \n",
       "4   36      housemaid      205     yes   no  telephone   nov         4     -1   \n",
       "\n",
       "  poutcome deposit     contact_frequency  \n",
       "0  unknown     yes      Rarely Contacted  \n",
       "1  unknown     yes  Moderately Contacted  \n",
       "2    other     yes      Rarely Contacted  \n",
       "3  unknown      no      Rarely Contacted  \n",
       "4  unknown      no  Moderately Contacted  "
      ]
     },
     "execution_count": 11,
     "metadata": {},
     "output_type": "execute_result"
    }
   ],
   "source": [
    "df.head()"
   ]
  },
  {
   "cell_type": "code",
   "execution_count": 12,
   "metadata": {},
   "outputs": [],
   "source": [
    "df['pdays'] = df['pdays'].apply(lambda x : 0 if x == -1 else x)"
   ]
  },
  {
   "attachments": {},
   "cell_type": "markdown",
   "metadata": {},
   "source": [
    "-1 in pdays mengartikan customer diasumsikan tidak dicontact pada campaign sebelumnya atau baru dicontact hari ini sehingga dapat diartikan bahwa pdays dengan value -1 sama dengan 0"
   ]
  },
  {
   "cell_type": "code",
   "execution_count": 13,
   "metadata": {},
   "outputs": [
    {
     "name": "stdout",
     "output_type": "stream",
     "text": [
      "18\n",
      "41.25726353513375\n",
      "95\n"
     ]
    }
   ],
   "source": [
    "print(df['age'].min())\n",
    "print(df['age'].mean())\n",
    "print(df['age'].max())"
   ]
  },
  {
   "cell_type": "code",
   "execution_count": 14,
   "metadata": {},
   "outputs": [],
   "source": [
    "bin_edges = range(18, 100, 5) \n",
    "labels = [f\"{start} - {start + 4}\" for start in bin_edges[:-1]]\n",
    "df['age_interval'] = pd.cut(df['age'], bins=bin_edges, labels=labels, right=False)"
   ]
  },
  {
   "cell_type": "code",
   "execution_count": 15,
   "metadata": {},
   "outputs": [
    {
     "data": {
      "text/html": [
       "<div>\n",
       "<style scoped>\n",
       "    .dataframe tbody tr th:only-of-type {\n",
       "        vertical-align: middle;\n",
       "    }\n",
       "\n",
       "    .dataframe tbody tr th {\n",
       "        vertical-align: top;\n",
       "    }\n",
       "\n",
       "    .dataframe thead th {\n",
       "        text-align: right;\n",
       "    }\n",
       "</style>\n",
       "<table border=\"1\" class=\"dataframe\">\n",
       "  <thead>\n",
       "    <tr style=\"text-align: right;\">\n",
       "      <th></th>\n",
       "      <th>age</th>\n",
       "      <th>job</th>\n",
       "      <th>balance</th>\n",
       "      <th>housing</th>\n",
       "      <th>loan</th>\n",
       "      <th>contact</th>\n",
       "      <th>month</th>\n",
       "      <th>campaign</th>\n",
       "      <th>pdays</th>\n",
       "      <th>poutcome</th>\n",
       "      <th>deposit</th>\n",
       "      <th>contact_frequency</th>\n",
       "      <th>age_interval</th>\n",
       "    </tr>\n",
       "  </thead>\n",
       "  <tbody>\n",
       "    <tr>\n",
       "      <th>0</th>\n",
       "      <td>55</td>\n",
       "      <td>admin.</td>\n",
       "      <td>1662</td>\n",
       "      <td>no</td>\n",
       "      <td>no</td>\n",
       "      <td>cellular</td>\n",
       "      <td>jun</td>\n",
       "      <td>2</td>\n",
       "      <td>0</td>\n",
       "      <td>unknown</td>\n",
       "      <td>yes</td>\n",
       "      <td>Rarely Contacted</td>\n",
       "      <td>53 - 57</td>\n",
       "    </tr>\n",
       "    <tr>\n",
       "      <th>1</th>\n",
       "      <td>39</td>\n",
       "      <td>self-employed</td>\n",
       "      <td>-3058</td>\n",
       "      <td>yes</td>\n",
       "      <td>yes</td>\n",
       "      <td>cellular</td>\n",
       "      <td>apr</td>\n",
       "      <td>3</td>\n",
       "      <td>0</td>\n",
       "      <td>unknown</td>\n",
       "      <td>yes</td>\n",
       "      <td>Moderately Contacted</td>\n",
       "      <td>38 - 42</td>\n",
       "    </tr>\n",
       "    <tr>\n",
       "      <th>2</th>\n",
       "      <td>51</td>\n",
       "      <td>admin.</td>\n",
       "      <td>3025</td>\n",
       "      <td>no</td>\n",
       "      <td>no</td>\n",
       "      <td>cellular</td>\n",
       "      <td>may</td>\n",
       "      <td>1</td>\n",
       "      <td>352</td>\n",
       "      <td>other</td>\n",
       "      <td>yes</td>\n",
       "      <td>Rarely Contacted</td>\n",
       "      <td>48 - 52</td>\n",
       "    </tr>\n",
       "    <tr>\n",
       "      <th>3</th>\n",
       "      <td>38</td>\n",
       "      <td>services</td>\n",
       "      <td>-87</td>\n",
       "      <td>yes</td>\n",
       "      <td>no</td>\n",
       "      <td>cellular</td>\n",
       "      <td>may</td>\n",
       "      <td>1</td>\n",
       "      <td>0</td>\n",
       "      <td>unknown</td>\n",
       "      <td>no</td>\n",
       "      <td>Rarely Contacted</td>\n",
       "      <td>38 - 42</td>\n",
       "    </tr>\n",
       "    <tr>\n",
       "      <th>4</th>\n",
       "      <td>36</td>\n",
       "      <td>housemaid</td>\n",
       "      <td>205</td>\n",
       "      <td>yes</td>\n",
       "      <td>no</td>\n",
       "      <td>telephone</td>\n",
       "      <td>nov</td>\n",
       "      <td>4</td>\n",
       "      <td>0</td>\n",
       "      <td>unknown</td>\n",
       "      <td>no</td>\n",
       "      <td>Moderately Contacted</td>\n",
       "      <td>33 - 37</td>\n",
       "    </tr>\n",
       "  </tbody>\n",
       "</table>\n",
       "</div>"
      ],
      "text/plain": [
       "   age            job  balance housing loan    contact month  campaign  pdays  \\\n",
       "0   55         admin.     1662      no   no   cellular   jun         2      0   \n",
       "1   39  self-employed    -3058     yes  yes   cellular   apr         3      0   \n",
       "2   51         admin.     3025      no   no   cellular   may         1    352   \n",
       "3   38       services      -87     yes   no   cellular   may         1      0   \n",
       "4   36      housemaid      205     yes   no  telephone   nov         4      0   \n",
       "\n",
       "  poutcome deposit     contact_frequency age_interval  \n",
       "0  unknown     yes      Rarely Contacted      53 - 57  \n",
       "1  unknown     yes  Moderately Contacted      38 - 42  \n",
       "2    other     yes      Rarely Contacted      48 - 52  \n",
       "3  unknown      no      Rarely Contacted      38 - 42  \n",
       "4  unknown      no  Moderately Contacted      33 - 37  "
      ]
     },
     "execution_count": 15,
     "metadata": {},
     "output_type": "execute_result"
    }
   ],
   "source": [
    "df.head()"
   ]
  },
  {
   "cell_type": "code",
   "execution_count": 16,
   "metadata": {},
   "outputs": [
    {
     "data": {
      "text/plain": [
       "<AxesSubplot:xlabel='deposit', ylabel='count'>"
      ]
     },
     "execution_count": 16,
     "metadata": {},
     "output_type": "execute_result"
    },
    {
     "data": {
      "image/png": "[encoded data removed]",
      "text/plain": [
       "<Figure size 432x288 with 1 Axes>"
      ]
     },
     "metadata": {
      "needs_background": "light"
     },
     "output_type": "display_data"
    }
   ],
   "source": [
    "sns.countplot(df['deposit'])"
   ]
  },
  {
   "attachments": {},
   "cell_type": "markdown",
   "metadata": {},
   "source": [
    "Tidak ada perbedaan signifikan antara data yes dan no pada kolom `deposit` sehingga dapat diasumsikan bahwa data ini masih termasuk balanced"
   ]
  },
  {
   "cell_type": "code",
   "execution_count": 17,
   "metadata": {},
   "outputs": [],
   "source": [
    "df['deposit'] = df['deposit'].apply(lambda x: 1 if x == 'yes' else 0)"
   ]
  },
  {
   "cell_type": "code",
   "execution_count": 18,
   "metadata": {},
   "outputs": [
    {
     "data": {
      "text/html": [
       "<div>\n",
       "<style scoped>\n",
       "    .dataframe tbody tr th:only-of-type {\n",
       "        vertical-align: middle;\n",
       "    }\n",
       "\n",
       "    .dataframe tbody tr th {\n",
       "        vertical-align: top;\n",
       "    }\n",
       "\n",
       "    .dataframe thead th {\n",
       "        text-align: right;\n",
       "    }\n",
       "</style>\n",
       "<table border=\"1\" class=\"dataframe\">\n",
       "  <thead>\n",
       "    <tr style=\"text-align: right;\">\n",
       "      <th></th>\n",
       "      <th>age</th>\n",
       "      <th>job</th>\n",
       "      <th>balance</th>\n",
       "      <th>housing</th>\n",
       "      <th>loan</th>\n",
       "      <th>contact</th>\n",
       "      <th>month</th>\n",
       "      <th>campaign</th>\n",
       "      <th>pdays</th>\n",
       "      <th>poutcome</th>\n",
       "      <th>deposit</th>\n",
       "      <th>contact_frequency</th>\n",
       "      <th>age_interval</th>\n",
       "    </tr>\n",
       "  </thead>\n",
       "  <tbody>\n",
       "    <tr>\n",
       "      <th>0</th>\n",
       "      <td>55</td>\n",
       "      <td>admin.</td>\n",
       "      <td>1662</td>\n",
       "      <td>no</td>\n",
       "      <td>no</td>\n",
       "      <td>cellular</td>\n",
       "      <td>jun</td>\n",
       "      <td>2</td>\n",
       "      <td>0</td>\n",
       "      <td>unknown</td>\n",
       "      <td>1</td>\n",
       "      <td>Rarely Contacted</td>\n",
       "      <td>53 - 57</td>\n",
       "    </tr>\n",
       "    <tr>\n",
       "      <th>1</th>\n",
       "      <td>39</td>\n",
       "      <td>self-employed</td>\n",
       "      <td>-3058</td>\n",
       "      <td>yes</td>\n",
       "      <td>yes</td>\n",
       "      <td>cellular</td>\n",
       "      <td>apr</td>\n",
       "      <td>3</td>\n",
       "      <td>0</td>\n",
       "      <td>unknown</td>\n",
       "      <td>1</td>\n",
       "      <td>Moderately Contacted</td>\n",
       "      <td>38 - 42</td>\n",
       "    </tr>\n",
       "    <tr>\n",
       "      <th>2</th>\n",
       "      <td>51</td>\n",
       "      <td>admin.</td>\n",
       "      <td>3025</td>\n",
       "      <td>no</td>\n",
       "      <td>no</td>\n",
       "      <td>cellular</td>\n",
       "      <td>may</td>\n",
       "      <td>1</td>\n",
       "      <td>352</td>\n",
       "      <td>other</td>\n",
       "      <td>1</td>\n",
       "      <td>Rarely Contacted</td>\n",
       "      <td>48 - 52</td>\n",
       "    </tr>\n",
       "    <tr>\n",
       "      <th>3</th>\n",
       "      <td>38</td>\n",
       "      <td>services</td>\n",
       "      <td>-87</td>\n",
       "      <td>yes</td>\n",
       "      <td>no</td>\n",
       "      <td>cellular</td>\n",
       "      <td>may</td>\n",
       "      <td>1</td>\n",
       "      <td>0</td>\n",
       "      <td>unknown</td>\n",
       "      <td>0</td>\n",
       "      <td>Rarely Contacted</td>\n",
       "      <td>38 - 42</td>\n",
       "    </tr>\n",
       "    <tr>\n",
       "      <th>4</th>\n",
       "      <td>36</td>\n",
       "      <td>housemaid</td>\n",
       "      <td>205</td>\n",
       "      <td>yes</td>\n",
       "      <td>no</td>\n",
       "      <td>telephone</td>\n",
       "      <td>nov</td>\n",
       "      <td>4</td>\n",
       "      <td>0</td>\n",
       "      <td>unknown</td>\n",
       "      <td>0</td>\n",
       "      <td>Moderately Contacted</td>\n",
       "      <td>33 - 37</td>\n",
       "    </tr>\n",
       "  </tbody>\n",
       "</table>\n",
       "</div>"
      ],
      "text/plain": [
       "   age            job  balance housing loan    contact month  campaign  pdays  \\\n",
       "0   55         admin.     1662      no   no   cellular   jun         2      0   \n",
       "1   39  self-employed    -3058     yes  yes   cellular   apr         3      0   \n",
       "2   51         admin.     3025      no   no   cellular   may         1    352   \n",
       "3   38       services      -87     yes   no   cellular   may         1      0   \n",
       "4   36      housemaid      205     yes   no  telephone   nov         4      0   \n",
       "\n",
       "  poutcome  deposit     contact_frequency age_interval  \n",
       "0  unknown        1      Rarely Contacted      53 - 57  \n",
       "1  unknown        1  Moderately Contacted      38 - 42  \n",
       "2    other        1      Rarely Contacted      48 - 52  \n",
       "3  unknown        0      Rarely Contacted      38 - 42  \n",
       "4  unknown        0  Moderately Contacted      33 - 37  "
      ]
     },
     "execution_count": 18,
     "metadata": {},
     "output_type": "execute_result"
    }
   ],
   "source": [
    "df.head()"
   ]
  },
  {
   "cell_type": "code",
   "execution_count": 19,
   "metadata": {},
   "outputs": [],
   "source": [
    "df['debt'] = ((df['loan'] == 'yes') | (df['housing'] == 'yes')).astype(int)"
   ]
  },
  {
   "cell_type": "code",
   "execution_count": 20,
   "metadata": {},
   "outputs": [
    {
     "data": {
      "text/plain": [
       "1    4090\n",
       "0    3723\n",
       "Name: debt, dtype: int64"
      ]
     },
     "execution_count": 20,
     "metadata": {},
     "output_type": "execute_result"
    }
   ],
   "source": [
    "df['debt'].value_counts()"
   ]
  },
  {
   "attachments": {},
   "cell_type": "markdown",
   "metadata": {},
   "source": [
    "Kategori masih bisa digolongkan sedikit sehingga digunakan one hot encoding"
   ]
  },
  {
   "cell_type": "code",
   "execution_count": 21,
   "metadata": {},
   "outputs": [
    {
     "data": {
      "text/plain": [
       "unknown    5819\n",
       "failure     848\n",
       "success     761\n",
       "other       385\n",
       "Name: poutcome, dtype: int64"
      ]
     },
     "execution_count": 21,
     "metadata": {},
     "output_type": "execute_result"
    }
   ],
   "source": [
    "df['poutcome'].value_counts()"
   ]
  },
  {
   "attachments": {},
   "cell_type": "markdown",
   "metadata": {},
   "source": [
    "Kategori masih bisa digolongkan sedikit sehingga digunakan one hot encoding"
   ]
  },
  {
   "cell_type": "code",
   "execution_count": 22,
   "metadata": {},
   "outputs": [],
   "source": [
    "df['difference_balance_and_average'] = np.abs(df['balance'] - df['balance'].mean())"
   ]
  },
  {
   "cell_type": "code",
   "execution_count": 23,
   "metadata": {},
   "outputs": [
    {
     "data": {
      "text/html": [
       "<div>\n",
       "<style scoped>\n",
       "    .dataframe tbody tr th:only-of-type {\n",
       "        vertical-align: middle;\n",
       "    }\n",
       "\n",
       "    .dataframe tbody tr th {\n",
       "        vertical-align: top;\n",
       "    }\n",
       "\n",
       "    .dataframe thead th {\n",
       "        text-align: right;\n",
       "    }\n",
       "</style>\n",
       "<table border=\"1\" class=\"dataframe\">\n",
       "  <thead>\n",
       "    <tr style=\"text-align: right;\">\n",
       "      <th></th>\n",
       "      <th>age</th>\n",
       "      <th>job</th>\n",
       "      <th>balance</th>\n",
       "      <th>housing</th>\n",
       "      <th>loan</th>\n",
       "      <th>contact</th>\n",
       "      <th>month</th>\n",
       "      <th>campaign</th>\n",
       "      <th>pdays</th>\n",
       "      <th>poutcome</th>\n",
       "      <th>deposit</th>\n",
       "      <th>contact_frequency</th>\n",
       "      <th>age_interval</th>\n",
       "      <th>debt</th>\n",
       "      <th>difference_balance_and_average</th>\n",
       "    </tr>\n",
       "  </thead>\n",
       "  <tbody>\n",
       "    <tr>\n",
       "      <th>0</th>\n",
       "      <td>55</td>\n",
       "      <td>admin.</td>\n",
       "      <td>1662</td>\n",
       "      <td>no</td>\n",
       "      <td>no</td>\n",
       "      <td>cellular</td>\n",
       "      <td>jun</td>\n",
       "      <td>2</td>\n",
       "      <td>0</td>\n",
       "      <td>unknown</td>\n",
       "      <td>1</td>\n",
       "      <td>Rarely Contacted</td>\n",
       "      <td>53 - 57</td>\n",
       "      <td>0</td>\n",
       "      <td>149.551389</td>\n",
       "    </tr>\n",
       "    <tr>\n",
       "      <th>1</th>\n",
       "      <td>39</td>\n",
       "      <td>self-employed</td>\n",
       "      <td>-3058</td>\n",
       "      <td>yes</td>\n",
       "      <td>yes</td>\n",
       "      <td>cellular</td>\n",
       "      <td>apr</td>\n",
       "      <td>3</td>\n",
       "      <td>0</td>\n",
       "      <td>unknown</td>\n",
       "      <td>1</td>\n",
       "      <td>Moderately Contacted</td>\n",
       "      <td>38 - 42</td>\n",
       "      <td>1</td>\n",
       "      <td>4570.448611</td>\n",
       "    </tr>\n",
       "    <tr>\n",
       "      <th>2</th>\n",
       "      <td>51</td>\n",
       "      <td>admin.</td>\n",
       "      <td>3025</td>\n",
       "      <td>no</td>\n",
       "      <td>no</td>\n",
       "      <td>cellular</td>\n",
       "      <td>may</td>\n",
       "      <td>1</td>\n",
       "      <td>352</td>\n",
       "      <td>other</td>\n",
       "      <td>1</td>\n",
       "      <td>Rarely Contacted</td>\n",
       "      <td>48 - 52</td>\n",
       "      <td>0</td>\n",
       "      <td>1512.551389</td>\n",
       "    </tr>\n",
       "    <tr>\n",
       "      <th>3</th>\n",
       "      <td>38</td>\n",
       "      <td>services</td>\n",
       "      <td>-87</td>\n",
       "      <td>yes</td>\n",
       "      <td>no</td>\n",
       "      <td>cellular</td>\n",
       "      <td>may</td>\n",
       "      <td>1</td>\n",
       "      <td>0</td>\n",
       "      <td>unknown</td>\n",
       "      <td>0</td>\n",
       "      <td>Rarely Contacted</td>\n",
       "      <td>38 - 42</td>\n",
       "      <td>1</td>\n",
       "      <td>1599.448611</td>\n",
       "    </tr>\n",
       "    <tr>\n",
       "      <th>4</th>\n",
       "      <td>36</td>\n",
       "      <td>housemaid</td>\n",
       "      <td>205</td>\n",
       "      <td>yes</td>\n",
       "      <td>no</td>\n",
       "      <td>telephone</td>\n",
       "      <td>nov</td>\n",
       "      <td>4</td>\n",
       "      <td>0</td>\n",
       "      <td>unknown</td>\n",
       "      <td>0</td>\n",
       "      <td>Moderately Contacted</td>\n",
       "      <td>33 - 37</td>\n",
       "      <td>1</td>\n",
       "      <td>1307.448611</td>\n",
       "    </tr>\n",
       "  </tbody>\n",
       "</table>\n",
       "</div>"
      ],
      "text/plain": [
       "   age            job  balance housing loan    contact month  campaign  pdays  \\\n",
       "0   55         admin.     1662      no   no   cellular   jun         2      0   \n",
       "1   39  self-employed    -3058     yes  yes   cellular   apr         3      0   \n",
       "2   51         admin.     3025      no   no   cellular   may         1    352   \n",
       "3   38       services      -87     yes   no   cellular   may         1      0   \n",
       "4   36      housemaid      205     yes   no  telephone   nov         4      0   \n",
       "\n",
       "  poutcome  deposit     contact_frequency age_interval  debt  \\\n",
       "0  unknown        1      Rarely Contacted      53 - 57     0   \n",
       "1  unknown        1  Moderately Contacted      38 - 42     1   \n",
       "2    other        1      Rarely Contacted      48 - 52     0   \n",
       "3  unknown        0      Rarely Contacted      38 - 42     1   \n",
       "4  unknown        0  Moderately Contacted      33 - 37     1   \n",
       "\n",
       "   difference_balance_and_average  \n",
       "0                      149.551389  \n",
       "1                     4570.448611  \n",
       "2                     1512.551389  \n",
       "3                     1599.448611  \n",
       "4                     1307.448611  "
      ]
     },
     "execution_count": 23,
     "metadata": {},
     "output_type": "execute_result"
    }
   ],
   "source": [
    "df.head()"
   ]
  },
  {
   "cell_type": "code",
   "execution_count": 24,
   "metadata": {},
   "outputs": [
    {
     "data": {
      "text/plain": [
       "management       1792\n",
       "blue-collar      1346\n",
       "technician       1291\n",
       "admin.            936\n",
       "services          658\n",
       "retired           540\n",
       "self-employed     280\n",
       "unemployed        249\n",
       "student           247\n",
       "entrepreneur      236\n",
       "housemaid         184\n",
       "unknown            54\n",
       "Name: job, dtype: int64"
      ]
     },
     "execution_count": 24,
     "metadata": {},
     "output_type": "execute_result"
    }
   ],
   "source": [
    "df['job'].value_counts()"
   ]
  },
  {
   "attachments": {},
   "cell_type": "markdown",
   "metadata": {},
   "source": [
    "Digunakan binary encoding karena jumlah kategori digolongkan cukup banyak"
   ]
  },
  {
   "cell_type": "code",
   "execution_count": 25,
   "metadata": {},
   "outputs": [
    {
     "data": {
      "text/plain": [
       "no     4140\n",
       "yes    3673\n",
       "Name: housing, dtype: int64"
      ]
     },
     "execution_count": 25,
     "metadata": {},
     "output_type": "execute_result"
    }
   ],
   "source": [
    "df['housing'].value_counts()"
   ]
  },
  {
   "attachments": {},
   "cell_type": "markdown",
   "metadata": {},
   "source": [
    "Kategori masih bisa digolongkan sedikit sehingga digunakan one hot encoding"
   ]
  },
  {
   "cell_type": "code",
   "execution_count": 26,
   "metadata": {},
   "outputs": [
    {
     "data": {
      "text/plain": [
       "no     6789\n",
       "yes    1024\n",
       "Name: loan, dtype: int64"
      ]
     },
     "execution_count": 26,
     "metadata": {},
     "output_type": "execute_result"
    }
   ],
   "source": [
    "df['loan'].value_counts()"
   ]
  },
  {
   "attachments": {},
   "cell_type": "markdown",
   "metadata": {},
   "source": [
    "Kategori masih bisa digolongkan sedikit sehingga digunakan one hot encoding"
   ]
  },
  {
   "cell_type": "code",
   "execution_count": 27,
   "metadata": {},
   "outputs": [
    {
     "data": {
      "text/plain": [
       "cellular     5628\n",
       "unknown      1639\n",
       "telephone     546\n",
       "Name: contact, dtype: int64"
      ]
     },
     "execution_count": 27,
     "metadata": {},
     "output_type": "execute_result"
    }
   ],
   "source": [
    "df['contact'].value_counts()"
   ]
  },
  {
   "attachments": {},
   "cell_type": "markdown",
   "metadata": {},
   "source": [
    "Kategori masih bisa digolongkan sedikit sehingga digunakan one hot encoding"
   ]
  },
  {
   "cell_type": "code",
   "execution_count": 28,
   "metadata": {},
   "outputs": [
    {
     "data": {
      "text/plain": [
       "may    1976\n",
       "aug    1085\n",
       "jul    1050\n",
       "jun     857\n",
       "apr     662\n",
       "nov     657\n",
       "feb     534\n",
       "oct     286\n",
       "jan     227\n",
       "sep     212\n",
       "mar     199\n",
       "dec      68\n",
       "Name: month, dtype: int64"
      ]
     },
     "execution_count": 28,
     "metadata": {},
     "output_type": "execute_result"
    }
   ],
   "source": [
    "df['month'].value_counts()"
   ]
  },
  {
   "attachments": {},
   "cell_type": "markdown",
   "metadata": {},
   "source": [
    "Kategori banyak dan memiliki jarak yang pasti tiap bulannya sehingga digunakan ordinal encoding"
   ]
  },
  {
   "attachments": {},
   "cell_type": "markdown",
   "metadata": {},
   "source": [
    "# Creating Interaction Feature"
   ]
  },
  {
   "cell_type": "code",
   "execution_count": null,
   "metadata": {},
   "outputs": [],
   "source": [
    "df['poutcome_month'] = df['poutcome'] + '_' + df['month']"
   ]
  },
  {
   "cell_type": "code",
   "execution_count": null,
   "metadata": {},
   "outputs": [
    {
     "data": {
      "text/plain": [
       "unknown_may    1546\n",
       "unknown_jul     942\n",
       "unknown_aug     889\n",
       "unknown_jun     734\n",
       "unknown_nov     443\n",
       "unknown_apr     434\n",
       "unknown_feb     317\n",
       "failure_may     243\n",
       "unknown_jan     146\n",
       "unknown_oct     134\n",
       "unknown_mar     127\n",
       "failure_apr     122\n",
       "failure_nov     115\n",
       "success_may     102\n",
       "success_aug     101\n",
       "failure_feb      93\n",
       "other_may        85\n",
       "unknown_sep      84\n",
       "success_feb      80\n",
       "success_oct      75\n",
       "success_sep      74\n",
       "success_jun      66\n",
       "success_nov      66\n",
       "failure_aug      64\n",
       "success_apr      57\n",
       "success_jul      52\n",
       "failure_oct      51\n",
       "other_apr        49\n",
       "other_feb        44\n",
       "success_mar      34\n",
       "failure_jul      34\n",
       "failure_sep      33\n",
       "failure_jun      33\n",
       "other_nov        33\n",
       "other_aug        31\n",
       "failure_jan      28\n",
       "success_jan      28\n",
       "other_oct        26\n",
       "success_dec      26\n",
       "other_jan        25\n",
       "other_jun        24\n",
       "unknown_dec      23\n",
       "other_jul        22\n",
       "other_sep        21\n",
       "failure_mar      21\n",
       "other_mar        17\n",
       "failure_dec      11\n",
       "other_dec         8\n",
       "Name: poutcome_month, dtype: int64"
      ]
     },
     "execution_count": 217,
     "metadata": {},
     "output_type": "execute_result"
    }
   ],
   "source": [
    "df['poutcome_month'].value_counts()"
   ]
  },
  {
   "cell_type": "code",
   "execution_count": null,
   "metadata": {},
   "outputs": [],
   "source": [
    "df['age_job'] = df['age'].astype(str) + '_' + df['job']"
   ]
  },
  {
   "cell_type": "code",
   "execution_count": null,
   "metadata": {},
   "outputs": [
    {
     "data": {
      "text/plain": [
       "31_management      100\n",
       "30_management       97\n",
       "33_management       93\n",
       "35_management       93\n",
       "32_management       92\n",
       "                  ... \n",
       "39_unknown           1\n",
       "65_entrepreneur      1\n",
       "21_admin.            1\n",
       "22_unemployed        1\n",
       "36_unknown           1\n",
       "Name: age_job, Length: 505, dtype: int64"
      ]
     },
     "execution_count": 219,
     "metadata": {},
     "output_type": "execute_result"
    }
   ],
   "source": [
    "df['age_job'].value_counts()"
   ]
  },
  {
   "cell_type": "code",
   "execution_count": null,
   "metadata": {},
   "outputs": [],
   "source": [
    "df['contact_month'] = df['contact'] + '_' + df['month']"
   ]
  },
  {
   "cell_type": "code",
   "execution_count": null,
   "metadata": {},
   "outputs": [
    {
     "data": {
      "text/plain": [
       "cellular_aug     1041\n",
       "unknown_may       988\n",
       "cellular_may      910\n",
       "cellular_jul      892\n",
       "cellular_apr      615\n",
       "cellular_nov      576\n",
       "unknown_jun       566\n",
       "cellular_feb      478\n",
       "cellular_jun      275\n",
       "cellular_oct      219\n",
       "cellular_jan      202\n",
       "cellular_sep      184\n",
       "cellular_mar      178\n",
       "telephone_jul     129\n",
       "telephone_may      78\n",
       "telephone_nov      67\n",
       "cellular_dec       58\n",
       "telephone_feb      53\n",
       "telephone_oct      52\n",
       "telephone_apr      43\n",
       "telephone_aug      35\n",
       "unknown_jul        29\n",
       "telephone_jan      25\n",
       "telephone_sep      19\n",
       "telephone_mar      19\n",
       "telephone_jun      16\n",
       "unknown_oct        15\n",
       "unknown_nov        14\n",
       "telephone_dec      10\n",
       "unknown_sep         9\n",
       "unknown_aug         9\n",
       "unknown_apr         4\n",
       "unknown_feb         3\n",
       "unknown_mar         2\n",
       "Name: contact_month, dtype: int64"
      ]
     },
     "execution_count": 221,
     "metadata": {},
     "output_type": "execute_result"
    }
   ],
   "source": [
    "df['contact_month'].value_counts()"
   ]
  },
  {
   "cell_type": "code",
   "execution_count": null,
   "metadata": {},
   "outputs": [],
   "source": [
    "df['balance_age_ratio'] = df['balance'] / df['age']"
   ]
  },
  {
   "cell_type": "code",
   "execution_count": null,
   "metadata": {},
   "outputs": [],
   "source": [
    "df['campaign_pdays'] = (df['campaign'] * -1) * df['pdays']"
   ]
  },
  {
   "cell_type": "code",
   "execution_count": null,
   "metadata": {},
   "outputs": [
    {
     "data": {
      "text/html": [
       "<div>\n",
       "<style scoped>\n",
       "    .dataframe tbody tr th:only-of-type {\n",
       "        vertical-align: middle;\n",
       "    }\n",
       "\n",
       "    .dataframe tbody tr th {\n",
       "        vertical-align: top;\n",
       "    }\n",
       "\n",
       "    .dataframe thead th {\n",
       "        text-align: right;\n",
       "    }\n",
       "</style>\n",
       "<table border=\"1\" class=\"dataframe\">\n",
       "  <thead>\n",
       "    <tr style=\"text-align: right;\">\n",
       "      <th></th>\n",
       "      <th>age</th>\n",
       "      <th>job</th>\n",
       "      <th>balance</th>\n",
       "      <th>housing</th>\n",
       "      <th>loan</th>\n",
       "      <th>contact</th>\n",
       "      <th>month</th>\n",
       "      <th>campaign</th>\n",
       "      <th>pdays</th>\n",
       "      <th>poutcome</th>\n",
       "      <th>deposit</th>\n",
       "      <th>contact_frequency</th>\n",
       "      <th>age_interval</th>\n",
       "      <th>debt</th>\n",
       "      <th>difference_balance_and_average</th>\n",
       "      <th>poutcome_month</th>\n",
       "      <th>age_job</th>\n",
       "      <th>contact_month</th>\n",
       "      <th>balance_age_ratio</th>\n",
       "      <th>campaign_pdays</th>\n",
       "    </tr>\n",
       "  </thead>\n",
       "  <tbody>\n",
       "    <tr>\n",
       "      <th>0</th>\n",
       "      <td>55</td>\n",
       "      <td>admin.</td>\n",
       "      <td>1662</td>\n",
       "      <td>no</td>\n",
       "      <td>no</td>\n",
       "      <td>cellular</td>\n",
       "      <td>jun</td>\n",
       "      <td>2</td>\n",
       "      <td>0</td>\n",
       "      <td>unknown</td>\n",
       "      <td>1</td>\n",
       "      <td>Rarely Contacted</td>\n",
       "      <td>53 - 57</td>\n",
       "      <td>0</td>\n",
       "      <td>149.551389</td>\n",
       "      <td>unknown_jun</td>\n",
       "      <td>55_admin.</td>\n",
       "      <td>cellular_jun</td>\n",
       "      <td>30.218182</td>\n",
       "      <td>0</td>\n",
       "    </tr>\n",
       "    <tr>\n",
       "      <th>1</th>\n",
       "      <td>39</td>\n",
       "      <td>self-employed</td>\n",
       "      <td>-3058</td>\n",
       "      <td>yes</td>\n",
       "      <td>yes</td>\n",
       "      <td>cellular</td>\n",
       "      <td>apr</td>\n",
       "      <td>3</td>\n",
       "      <td>0</td>\n",
       "      <td>unknown</td>\n",
       "      <td>1</td>\n",
       "      <td>Moderately Contacted</td>\n",
       "      <td>38 - 42</td>\n",
       "      <td>1</td>\n",
       "      <td>4570.448611</td>\n",
       "      <td>unknown_apr</td>\n",
       "      <td>39_self-employed</td>\n",
       "      <td>cellular_apr</td>\n",
       "      <td>-78.410256</td>\n",
       "      <td>0</td>\n",
       "    </tr>\n",
       "    <tr>\n",
       "      <th>2</th>\n",
       "      <td>51</td>\n",
       "      <td>admin.</td>\n",
       "      <td>3025</td>\n",
       "      <td>no</td>\n",
       "      <td>no</td>\n",
       "      <td>cellular</td>\n",
       "      <td>may</td>\n",
       "      <td>1</td>\n",
       "      <td>352</td>\n",
       "      <td>other</td>\n",
       "      <td>1</td>\n",
       "      <td>Rarely Contacted</td>\n",
       "      <td>48 - 52</td>\n",
       "      <td>0</td>\n",
       "      <td>1512.551389</td>\n",
       "      <td>other_may</td>\n",
       "      <td>51_admin.</td>\n",
       "      <td>cellular_may</td>\n",
       "      <td>59.313725</td>\n",
       "      <td>-352</td>\n",
       "    </tr>\n",
       "    <tr>\n",
       "      <th>3</th>\n",
       "      <td>38</td>\n",
       "      <td>services</td>\n",
       "      <td>-87</td>\n",
       "      <td>yes</td>\n",
       "      <td>no</td>\n",
       "      <td>cellular</td>\n",
       "      <td>may</td>\n",
       "      <td>1</td>\n",
       "      <td>0</td>\n",
       "      <td>unknown</td>\n",
       "      <td>0</td>\n",
       "      <td>Rarely Contacted</td>\n",
       "      <td>38 - 42</td>\n",
       "      <td>1</td>\n",
       "      <td>1599.448611</td>\n",
       "      <td>unknown_may</td>\n",
       "      <td>38_services</td>\n",
       "      <td>cellular_may</td>\n",
       "      <td>-2.289474</td>\n",
       "      <td>0</td>\n",
       "    </tr>\n",
       "    <tr>\n",
       "      <th>4</th>\n",
       "      <td>36</td>\n",
       "      <td>housemaid</td>\n",
       "      <td>205</td>\n",
       "      <td>yes</td>\n",
       "      <td>no</td>\n",
       "      <td>telephone</td>\n",
       "      <td>nov</td>\n",
       "      <td>4</td>\n",
       "      <td>0</td>\n",
       "      <td>unknown</td>\n",
       "      <td>0</td>\n",
       "      <td>Moderately Contacted</td>\n",
       "      <td>33 - 37</td>\n",
       "      <td>1</td>\n",
       "      <td>1307.448611</td>\n",
       "      <td>unknown_nov</td>\n",
       "      <td>36_housemaid</td>\n",
       "      <td>telephone_nov</td>\n",
       "      <td>5.694444</td>\n",
       "      <td>0</td>\n",
       "    </tr>\n",
       "  </tbody>\n",
       "</table>\n",
       "</div>"
      ],
      "text/plain": [
       "   age            job  balance housing loan    contact month  campaign  pdays  \\\n",
       "0   55         admin.     1662      no   no   cellular   jun         2      0   \n",
       "1   39  self-employed    -3058     yes  yes   cellular   apr         3      0   \n",
       "2   51         admin.     3025      no   no   cellular   may         1    352   \n",
       "3   38       services      -87     yes   no   cellular   may         1      0   \n",
       "4   36      housemaid      205     yes   no  telephone   nov         4      0   \n",
       "\n",
       "  poutcome  deposit     contact_frequency age_interval  debt  \\\n",
       "0  unknown        1      Rarely Contacted      53 - 57     0   \n",
       "1  unknown        1  Moderately Contacted      38 - 42     1   \n",
       "2    other        1      Rarely Contacted      48 - 52     0   \n",
       "3  unknown        0      Rarely Contacted      38 - 42     1   \n",
       "4  unknown        0  Moderately Contacted      33 - 37     1   \n",
       "\n",
       "   difference_balance_and_average poutcome_month           age_job  \\\n",
       "0                      149.551389    unknown_jun         55_admin.   \n",
       "1                     4570.448611    unknown_apr  39_self-employed   \n",
       "2                     1512.551389      other_may         51_admin.   \n",
       "3                     1599.448611    unknown_may       38_services   \n",
       "4                     1307.448611    unknown_nov      36_housemaid   \n",
       "\n",
       "   contact_month  balance_age_ratio  campaign_pdays  \n",
       "0   cellular_jun          30.218182               0  \n",
       "1   cellular_apr         -78.410256               0  \n",
       "2   cellular_may          59.313725            -352  \n",
       "3   cellular_may          -2.289474               0  \n",
       "4  telephone_nov           5.694444               0  "
      ]
     },
     "execution_count": 224,
     "metadata": {},
     "output_type": "execute_result"
    }
   ],
   "source": [
    "df.head()"
   ]
  },
  {
   "attachments": {},
   "cell_type": "markdown",
   "metadata": {},
   "source": [
    "# Initial Modelling"
   ]
  },
  {
   "cell_type": "code",
   "execution_count": null,
   "metadata": {},
   "outputs": [],
   "source": [
    "feature = df.drop(columns='deposit')\n",
    "target = df['deposit']"
   ]
  },
  {
   "cell_type": "code",
   "execution_count": null,
   "metadata": {},
   "outputs": [],
   "source": [
    "X_train, X_test, y_train, y_test = train_test_split(feature, target, test_size = 0.2, random_state = 42, stratify= target)"
   ]
  },
  {
   "cell_type": "code",
   "execution_count": null,
   "metadata": {},
   "outputs": [
    {
     "name": "stdout",
     "output_type": "stream",
     "text": [
      "(6250, 19)\n",
      "(1563, 19)\n"
     ]
    }
   ],
   "source": [
    "print(X_train.shape)\n",
    "print(X_test.shape)"
   ]
  },
  {
   "cell_type": "code",
   "execution_count": null,
   "metadata": {},
   "outputs": [
    {
     "name": "stdout",
     "output_type": "stream",
     "text": [
      "(6250,)\n",
      "(1563,)\n"
     ]
    }
   ],
   "source": [
    "print(y_train.shape)\n",
    "print(y_test.shape)"
   ]
  },
  {
   "cell_type": "code",
   "execution_count": null,
   "metadata": {},
   "outputs": [
    {
     "data": {
      "image/png": "[encoded data removed]",
      "text/plain": [
       "<Figure size 576x432 with 2 Axes>"
      ]
     },
     "metadata": {
      "needs_background": "light"
     },
     "output_type": "display_data"
    },
    {
     "name": "stdout",
     "output_type": "stream",
     "text": [
      " \n",
      "Model:  LogisticRegression\n",
      "Train Accuracy:  0.69328\n",
      "Test Accuracy:  0.6903390914907229\n",
      "_________\n"
     ]
    },
    {
     "data": {
      "image/png": "[encoded data removed]",
      "text/plain": [
       "<Figure size 576x432 with 2 Axes>"
      ]
     },
     "metadata": {
      "needs_background": "light"
     },
     "output_type": "display_data"
    },
    {
     "name": "stdout",
     "output_type": "stream",
     "text": [
      " \n",
      "Model:  DecisionTreeClassifier\n",
      "Train Accuracy:  0.6278400000000001\n",
      "Test Accuracy:  0.6097248880358286\n",
      "_________\n"
     ]
    },
    {
     "data": {
      "image/png": "[encoded data removed]",
      "text/plain": [
       "<Figure size 576x432 with 2 Axes>"
      ]
     },
     "metadata": {
      "needs_background": "light"
     },
     "output_type": "display_data"
    },
    {
     "name": "stdout",
     "output_type": "stream",
     "text": [
      " \n",
      "Model:  KNeighborsClassifier\n",
      "Train Accuracy:  0.6624000000000001\n",
      "Test Accuracy:  0.6660268714011516\n",
      "_________\n"
     ]
    },
    {
     "data": {
      "image/png": "[encoded data removed]",
      "text/plain": [
       "<Figure size 576x432 with 2 Axes>"
      ]
     },
     "metadata": {
      "needs_background": "light"
     },
     "output_type": "display_data"
    },
    {
     "name": "stdout",
     "output_type": "stream",
     "text": [
      " \n",
      "Model:  RandomForestClassifier\n",
      "Train Accuracy:  0.71072\n",
      "Test Accuracy:  0.7191298784388995\n",
      "_________\n"
     ]
    },
    {
     "data": {
      "image/png": "[encoded data removed]",
      "text/plain": [
       "<Figure size 576x432 with 2 Axes>"
      ]
     },
     "metadata": {
      "needs_background": "light"
     },
     "output_type": "display_data"
    },
    {
     "name": "stdout",
     "output_type": "stream",
     "text": [
      " \n",
      "Model:  GradientBoostingClassifier\n",
      "Train Accuracy:  0.72528\n",
      "Test Accuracy:  0.7421625079974408\n",
      "_________\n"
     ]
    },
    {
     "data": {
      "image/png": "[encoded data removed]",
      "text/plain": [
       "<Figure size 576x432 with 2 Axes>"
      ]
     },
     "metadata": {
      "needs_background": "light"
     },
     "output_type": "display_data"
    },
    {
     "name": "stdout",
     "output_type": "stream",
     "text": [
      " \n",
      "Model:  SVC\n",
      "Train Accuracy:  0.69792\n",
      "Test Accuracy:  0.7172104926423545\n",
      "_________\n"
     ]
    },
    {
     "data": {
      "image/png": "[encoded data removed]",
      "text/plain": [
       "<Figure size 576x432 with 2 Axes>"
      ]
     },
     "metadata": {
      "needs_background": "light"
     },
     "output_type": "display_data"
    },
    {
     "name": "stdout",
     "output_type": "stream",
     "text": [
      " \n",
      "Model:  XGBClassifier\n",
      "Train Accuracy:  0.6936\n",
      "Test Accuracy:  0.6960972488803583\n",
      "_________\n"
     ]
    },
    {
     "data": {
      "image/png": "[encoded data removed]",
      "text/plain": [
       "<Figure size 576x432 with 2 Axes>"
      ]
     },
     "metadata": {
      "needs_background": "light"
     },
     "output_type": "display_data"
    },
    {
     "name": "stdout",
     "output_type": "stream",
     "text": [
      " \n",
      "Model:  XGBRFClassifier\n",
      "Train Accuracy:  0.7064\n",
      "Test Accuracy:  0.7005758157389635\n",
      "_________\n"
     ]
    },
    {
     "data": {
      "image/png": "[encoded data removed]",
      "text/plain": [
       "<Figure size 576x432 with 2 Axes>"
      ]
     },
     "metadata": {
      "needs_background": "light"
     },
     "output_type": "display_data"
    },
    {
     "name": "stdout",
     "output_type": "stream",
     "text": [
      " \n",
      "Model:  LGBMClassifier\n",
      "Train Accuracy:  0.70912\n",
      "Test Accuracy:  0.7165706973768394\n",
      "_________\n"
     ]
    },
    {
     "data": {
      "image/png": "[encoded data removed]",
      "text/plain": [
       "<Figure size 576x432 with 2 Axes>"
      ]
     },
     "metadata": {
      "needs_background": "light"
     },
     "output_type": "display_data"
    },
    {
     "name": "stdout",
     "output_type": "stream",
     "text": [
      " \n",
      "Model:  GaussianNB\n",
      "Train Accuracy:  0.6504\n",
      "Test Accuracy:  0.6794625719769674\n",
      "_________\n"
     ]
    },
    {
     "data": {
      "image/png": "[encoded data removed]",
      "text/plain": [
       "<Figure size 576x432 with 2 Axes>"
      ]
     },
     "metadata": {
      "needs_background": "light"
     },
     "output_type": "display_data"
    },
    {
     "name": "stdout",
     "output_type": "stream",
     "text": [
      " \n",
      "Model:  LinearDiscriminantAnalysis\n",
      "Train Accuracy:  0.69136\n",
      "Test Accuracy:  0.6948176583493282\n",
      "_________\n"
     ]
    },
    {
     "data": {
      "image/png": "[encoded data removed]",
      "text/plain": [
       "<Figure size 576x432 with 2 Axes>"
      ]
     },
     "metadata": {
      "needs_background": "light"
     },
     "output_type": "display_data"
    },
    {
     "name": "stdout",
     "output_type": "stream",
     "text": [
      " \n",
      "Model:  QuadraticDiscriminantAnalysis\n",
      "Train Accuracy:  0.6856000000000001\n",
      "Test Accuracy:  0.708893154190659\n",
      "_________\n"
     ]
    }
   ],
   "source": [
    "from sklearn.model_selection import cross_val_score\n",
    "from sklearn.ensemble import RandomForestClassifier, GradientBoostingClassifier\n",
    "from sklearn.svm import SVC\n",
    "from xgboost import XGBClassifier, XGBRFClassifier\n",
    "from lightgbm import LGBMClassifier\n",
    "from sklearn.preprocessing import OrdinalEncoder\n",
    "from sklearn.naive_bayes import GaussianNB\n",
    "from sklearn.discriminant_analysis import LinearDiscriminantAnalysis\n",
    "from sklearn.discriminant_analysis import QuadraticDiscriminantAnalysis\n",
    "\n",
    "logreg = LogisticRegression(random_state=42)\n",
    "knn = KNeighborsClassifier()\n",
    "dt = DecisionTreeClassifier(random_state=42)\n",
    "rf = RandomForestClassifier(random_state=42)\n",
    "gb = GradientBoostingClassifier(random_state=42)\n",
    "svm = SVC(random_state=42)\n",
    "xgb = XGBClassifier(random_state=42)\n",
    "xgb_rf = XGBRFClassifier(random_state=42)\n",
    "lgbm = LGBMClassifier(random_state=42)\n",
    "nb = GaussianNB()\n",
    "lda = LinearDiscriminantAnalysis()\n",
    "qda = QuadraticDiscriminantAnalysis()\n",
    "\n",
    "models = [logreg, dt, knn, rf, gb, svm, xgb, xgb_rf, lgbm, nb, lda, qda]\n",
    "for model in models:\n",
    "    ct = ColumnTransformer([\n",
    "            (\"Encoding\", OneHotEncoder(drop='first'), ['contact', 'housing', 'loan', 'poutcome', 'contact_frequency']),\n",
    "            (\"Binary Encoding\", ce.BinaryEncoder(), ['job', 'age_job', 'contact_month', 'poutcome_month']),\n",
    "            (\"Ordinal Encoding\", OrdinalEncoder(), ['month', 'age_interval']),\n",
    "            (\"Scalling\", RobustScaler(), ['balance', 'age', 'difference_balance_and_average','campaign', 'pdays', 'campaign_pdays', 'balance_age_ratio']) #Robust Scaler digunakan karena data outlier tetap digunakan\n",
    "        ], remainder='passthrough', verbose_feature_names_out=False)\n",
    "\n",
    "    clf = Pipeline([\n",
    "            (\"Feature Transformation\", ct),\n",
    "            (f\"Model {type(model).__name__}\", model)\n",
    "        ])\n",
    "    cv = StratifiedKFold(n_splits=5, shuffle=True, random_state=42)\n",
    "    train_accuracy = cross_val_score(clf, X_train, y_train, cv=cv, scoring='accuracy')\n",
    "    clf.fit(X_train, y_train)\n",
    "    test_prediction = clf.predict(X_test)\n",
    "    test_accuracy = accuracy_score(y_test, test_prediction)\n",
    "    cm = confusion_matrix(y_test, test_prediction)\n",
    "    plt.figure(figsize=(8,6))\n",
    "    sns.heatmap(cm, annot=True, fmt='g', cmap='Blues')\n",
    "    plt.xlabel('Predicted')\n",
    "    plt.ylabel('True')\n",
    "    plt.title(f\"{type(model).__name__} - Confusion Matrix\")\n",
    "    plt.show()\n",
    "    print(\" \")\n",
    "    print(\"Model: \", type(model).__name__)\n",
    "    print(\"Train Accuracy: \", train_accuracy.mean())\n",
    "    print(\"Test Accuracy: \", test_accuracy)\n",
    "    print(\"_________\")"
   ]
  },
  {
   "attachments": {},
   "cell_type": "markdown",
   "metadata": {},
   "source": [
    "Dilakukan pemodelan pertama dengan penggunaan evaluation metrics berupa accuracy score dikarenakan dataset ini termasuk balanced dataset dan accuracy score ini menandakan persentase berapa hasil prediksi yang benar dibandingkan dengan data aktual baik pada value yes and no (1 dan 0) untuk pelanggan melakukan deposit atau tidak dimana pemilihan evaluation metrics ini sejalan dengan permasalahan yang ada dan bentuk dataset yang didapatkan karena pada bank marketing campaign ini sendiri, tentunya keakuratan prediksi untuk pelanggan melakukan deposit atau tidak merupakan hal yang diprioritaskan agar bank mampu melihat pelanggan yang tidak melakukan deposit berdasarkan model machine learning yang dibuat dan dapat diberikan perlakuan tambahan untuk pelanggan tersebut **sehingga dibutuhkan model machine learning yang mampu melakukan prediksi akurat untuk value yes and no (1 dan 0) pada variabel `deposit` dimana evaluation metrics paling tepat untuk hal ini adalah accuracy score.** Didapatkan bahwa semua model menghasilkan nilai yang serupa namun **model Gradient Boosting Classifier menghasilkan nilai accuracy pada data testing terbaik yakni 74,216 % sehingga algoritma Gradient Boosting Classifier inilah yang akan digunakan untuk pemberian perlakuan tambahan seperti hyperparameter tuning, feature selection, ensemble model, dan sebagainya dikarenakan akurasi ini masih dianggap cukup rendah. Dari hal ini, juga ditemukan bahwa permasalahan yang menurunkan nilai akurasi adalah dari sisi precision dimana hampir sebagian besar kesalahan dari prediksi mesin didapatkan ketika melakukan prediksi pada angka 1 dari variabel `deposit` sehingga hal ini menunjukkan permasalahan dari sisi `recall` dikarenakan angka false negative yang ditemukan (prediksi angka 0 dimana seharusnya angka 1 yang benar).**"
   ]
  },
  {
   "attachments": {},
   "cell_type": "markdown",
   "metadata": {},
   "source": [
    "# Identifying Problem On The Model"
   ]
  },
  {
   "cell_type": "code",
   "execution_count": null,
   "metadata": {},
   "outputs": [
    {
     "data": {
      "image/png": "[encoded data removed]",
      "text/plain": [
       "<Figure size 576x432 with 2 Axes>"
      ]
     },
     "metadata": {
      "needs_background": "light"
     },
     "output_type": "display_data"
    },
    {
     "name": "stdout",
     "output_type": "stream",
     "text": [
      " \n",
      "Model:  GradientBoostingClassifier\n",
      "Train Accuracy:  0.72528\n",
      "Test Accuracy:  0.7421625079974408\n",
      "_________\n",
      "Classification Report:\n",
      "              precision    recall  f1-score   support\n",
      "\n",
      "           0       0.71      0.84      0.77       816\n",
      "           1       0.79      0.63      0.70       747\n",
      "\n",
      "    accuracy                           0.74      1563\n",
      "   macro avg       0.75      0.74      0.74      1563\n",
      "weighted avg       0.75      0.74      0.74      1563\n",
      "\n"
     ]
    }
   ],
   "source": [
    "from sklearn.metrics import classification_report\n",
    "\n",
    "gb = GradientBoostingClassifier(random_state=42)\n",
    "ct = ColumnTransformer([\n",
    "            (\"Encoding\", OneHotEncoder(drop='first'), ['contact', 'housing', 'loan', 'poutcome', 'contact_frequency']),\n",
    "             (\"Binary Encoding\", ce.BinaryEncoder(), ['job', 'age_job', 'contact_month', 'poutcome_month']),\n",
    "            (\"Ordinal Encoding\", OrdinalEncoder(), ['month', 'age_interval']),\n",
    "            (\"Scalling\", RobustScaler(), ['balance', 'age', 'difference_balance_and_average','campaign', 'pdays', 'campaign_pdays', 'balance_age_ratio']) #Robust Scaler digunakan karena data outlier tetap digunakan\n",
    "        ], remainder='passthrough', verbose_feature_names_out=False)\n",
    "\n",
    "\n",
    "clf = Pipeline([\n",
    "        (\"Feature Transformation\", ct),\n",
    "        (f\"Model {type(gb).__name__}\", gb)\n",
    "    ])\n",
    "cv = StratifiedKFold(n_splits=5, shuffle=True, random_state=42)\n",
    "train_accuracy = cross_val_score(clf, X_train, y_train, cv=cv, scoring='accuracy')\n",
    "clf.fit(X_train, y_train)\n",
    "test_prediction = clf.predict(X_test)\n",
    "test_accuracy = accuracy_score(y_test, test_prediction)\n",
    "cm = confusion_matrix(y_test, test_prediction)\n",
    "classification_rep = classification_report(y_test, test_prediction)\n",
    "\n",
    "plt.figure(figsize=(8,6))\n",
    "sns.heatmap(cm, annot=True, fmt='g', cmap='Blues')\n",
    "plt.xlabel('Predicted')\n",
    "plt.ylabel('True')\n",
    "plt.title(f\"{type(gb).__name__} - Confusion Matrix\")\n",
    "plt.show()\n",
    "\n",
    "print(\" \")\n",
    "print(\"Model: \", type(gb).__name__)\n",
    "print(\"Train Accuracy: \", train_accuracy.mean())\n",
    "print(\"Test Accuracy: \", test_accuracy)\n",
    "print(\"_________\")\n",
    "print(\"Classification Report:\")\n",
    "print(classification_rep)\n"
   ]
  },
  {
   "attachments": {},
   "cell_type": "markdown",
   "metadata": {},
   "source": [
    "Dapat dilihat permasalahan dari nilai precision yang rendah pada nilai 0, recall yang rendah pada nilai 1, dan f1 score yang rendah untuk nilai 1 dimana semua hal ini memperlihatkan bahwa machine learning model yang dibuat dengan algoritma ini sering melakukan prediksi nilai 0 walaupun angka yang benar seharusnya 1 dimana hal ini terlihat dari precision nilai 0 yang cukup rendah dimana precision sendiri merupakan rasio prediksi benar positif dibandingkan dengan keseluruhan hasil yang diprediksi positif. Terlihat juga dari nilai recall yang rendah untuk nilai 1 dikarenakan recall ini sendiri adalah  rasio prediksi benar positif dibandingkan dengan keseluruhan data yang benar positif dimana hal ini masuk akal karena **precision nilai 0 yang rendah menandakan bahwa banyak prediksi angka 0 yang salah dimana hal ini tentunya mengartikan banyak prediksi berupa 0 dimana hasil seharusnya adalah angka 1 sehingga recall untuk nilai 1 juga rendah. F1-score disini merupakan rata-rata dari nilai precision dan recall dimana tentunya didapatkan juga bahwa f1-score untuk nilai 1 didapatkan cukup rendah.** "
   ]
  },
  {
   "attachments": {},
   "cell_type": "markdown",
   "metadata": {},
   "source": [
    "# Optimizing Selected Model"
   ]
  },
  {
   "cell_type": "code",
   "execution_count": null,
   "metadata": {},
   "outputs": [
    {
     "name": "stdout",
     "output_type": "stream",
     "text": [
      "      Iter       Train Loss      OOB Improve   Remaining Time \n",
      "         1           1.3767           0.0075            9.11s\n",
      "         2           1.3700           0.0071            7.50s\n",
      "         3           1.3626           0.0068            7.85s\n",
      "         4           1.3556           0.0065            7.55s\n",
      "         5           1.3473           0.0066            7.65s\n",
      "         6           1.3417           0.0058            7.42s\n",
      "         7           1.3352           0.0056            7.14s\n",
      "         8           1.3301           0.0055            7.04s\n",
      "         9           1.3253           0.0057            6.88s\n",
      "        10           1.3190           0.0052            6.79s\n",
      "        20           1.2690           0.0032            6.71s\n",
      "        30           1.2380           0.0022            6.61s\n",
      "        40           1.2158           0.0022            6.58s\n",
      "        50           1.1857           0.0010            6.40s\n",
      "        60           1.1739           0.0009            6.16s\n",
      "        70           1.1612           0.0011            5.86s\n",
      "        80           1.1486           0.0005            5.64s\n",
      "        90           1.1384           0.0006            5.38s\n",
      "       100           1.1290           0.0005            5.18s\n",
      "       200           1.0669           0.0003            3.48s\n",
      "       300           1.0438          -0.0001            1.65s\n",
      "       400           1.0125          -0.0004            0.00s\n",
      "      Iter       Train Loss      OOB Improve   Remaining Time \n",
      "         1           1.3771           0.0066            5.56s\n",
      "         2           1.3698           0.0068            5.62s\n",
      "         3           1.3635           0.0076            5.47s\n",
      "         4           1.3572           0.0066            5.74s\n",
      "         5           1.3504           0.0062            6.72s\n",
      "         6           1.3434           0.0055            7.01s\n",
      "         7           1.3376           0.0054            7.09s\n",
      "         8           1.3319           0.0048            6.87s\n",
      "         9           1.3298           0.0057            6.73s\n",
      "        10           1.3228           0.0050            6.75s\n",
      "        20           1.2818           0.0036            6.49s\n",
      "        30           1.2459           0.0021            6.23s\n",
      "        40           1.2191           0.0019            6.24s\n",
      "        50           1.2018           0.0013            6.21s\n",
      "        60           1.1909           0.0011            6.16s\n",
      "        70           1.1728           0.0018            5.96s\n",
      "        80           1.1598           0.0010            5.79s\n",
      "        90           1.1481           0.0007            5.55s\n",
      "       100           1.1365           0.0004            5.33s\n",
      "       200           1.0744          -0.0002            3.40s\n",
      "       300           1.0523          -0.0002            1.67s\n",
      "       400           1.0184          -0.0001            0.00s\n",
      "      Iter       Train Loss      OOB Improve   Remaining Time \n",
      "         1           1.3772           0.0068           15.81s\n",
      "         2           1.3702           0.0065           12.88s\n",
      "         3           1.3622           0.0075           11.99s\n",
      "         4           1.3555           0.0063           11.22s\n",
      "         5           1.3489           0.0056           11.03s\n",
      "         6           1.3430           0.0054           10.83s\n",
      "         7           1.3390           0.0055           10.64s\n",
      "         8           1.3322           0.0053           10.28s\n",
      "         9           1.3289           0.0051           10.17s\n",
      "        10           1.3202           0.0045           10.42s\n",
      "        20           1.2798           0.0033           10.58s\n",
      "        30           1.2466           0.0033            9.87s\n",
      "        40           1.2213           0.0015            9.42s\n",
      "        50           1.2033           0.0017            8.52s\n",
      "        60           1.1848           0.0013            7.71s\n",
      "        70           1.1635           0.0007            7.13s\n",
      "        80           1.1569           0.0011            6.81s\n",
      "        90           1.1417           0.0004            6.35s\n",
      "       100           1.1236           0.0001            5.90s\n",
      "       200           1.0775           0.0002            3.54s\n",
      "       300           1.0444           0.0000            1.77s\n",
      "       400           1.0107          -0.0001            0.00s\n",
      "      Iter       Train Loss      OOB Improve   Remaining Time \n",
      "         1           1.3762           0.0074            8.20s\n",
      "         2           1.3694           0.0074            8.48s\n",
      "         3           1.3631           0.0061            8.18s\n",
      "         4           1.3563           0.0057            7.94s\n",
      "         5           1.3500           0.0062            7.70s\n",
      "         6           1.3452           0.0056            7.45s\n",
      "         7           1.3389           0.0059            7.15s\n",
      "         8           1.3336           0.0056            7.03s\n",
      "         9           1.3281           0.0057            7.21s\n",
      "        10           1.3227           0.0050            7.13s\n",
      "        20           1.2758           0.0030            7.05s\n",
      "        30           1.2436           0.0022            7.29s\n",
      "        40           1.2186           0.0018            6.91s\n",
      "        50           1.2029           0.0014            6.54s\n",
      "        60           1.1748           0.0007            6.15s\n",
      "        70           1.1626           0.0005            5.80s\n",
      "        80           1.1621           0.0006            5.48s\n",
      "        90           1.1433           0.0010            5.32s\n",
      "       100           1.1390           0.0004            5.17s\n",
      "       200           1.0779          -0.0000            3.21s\n",
      "       300           1.0486           0.0000            1.54s\n",
      "       400           1.0220           0.0001            0.00s\n",
      "      Iter       Train Loss      OOB Improve   Remaining Time \n",
      "         1           1.3770           0.0072            5.65s\n",
      "         2           1.3709           0.0069            6.41s\n",
      "         3           1.3646           0.0064            6.12s\n",
      "         4           1.3564           0.0052            5.91s\n",
      "         5           1.3515           0.0058            6.00s\n",
      "         6           1.3462           0.0054            6.23s\n",
      "         7           1.3395           0.0052            6.21s\n",
      "         8           1.3333           0.0047            6.11s\n",
      "         9           1.3324           0.0055            5.98s\n",
      "        10           1.3260           0.0048            5.91s\n",
      "        20           1.2827           0.0030            5.93s\n",
      "        30           1.2515           0.0021            5.82s\n",
      "        40           1.2284           0.0021            5.76s\n",
      "        50           1.2081           0.0015            5.67s\n",
      "        60           1.1935           0.0007            5.44s\n",
      "        70           1.1788           0.0011            5.16s\n",
      "        80           1.1652           0.0009            4.94s\n",
      "        90           1.1558           0.0006            4.72s\n",
      "       100           1.1372           0.0002            4.55s\n",
      "       200           1.1030           0.0001            2.90s\n",
      "       300           1.0605           0.0000            1.45s\n",
      "       400           1.0310          -0.0002            0.00s\n",
      "      Iter       Train Loss      OOB Improve   Remaining Time \n",
      "         1           1.3775           0.0070            7.14s\n",
      "         2           1.3698           0.0061            7.20s\n",
      "         3           1.3638           0.0066            6.86s\n",
      "         4           1.3569           0.0058            6.85s\n",
      "         5           1.3520           0.0062            6.89s\n",
      "         6           1.3442           0.0055            6.79s\n",
      "         7           1.3391           0.0056            6.66s\n",
      "         8           1.3344           0.0054            6.69s\n",
      "         9           1.3264           0.0044            6.61s\n",
      "        10           1.3226           0.0049            6.55s\n",
      "        20           1.2811           0.0031            6.64s\n",
      "        30           1.2509           0.0023            6.42s\n",
      "        40           1.2322           0.0017            6.31s\n",
      "        50           1.2098           0.0017            6.11s\n",
      "        60           1.1931           0.0011            5.97s\n",
      "        70           1.1737           0.0008            5.76s\n",
      "        80           1.1636           0.0007            5.61s\n",
      "        90           1.1521           0.0004            5.37s\n",
      "       100           1.1448           0.0001            5.22s\n",
      "       200           1.0964           0.0003            3.46s\n",
      "       300           1.0719           0.0000            1.75s\n",
      "       400           1.0441          -0.0002            0.00s\n"
     ]
    },
    {
     "data": {
      "image/png": "[encoded data removed]",
      "text/plain": [
       "<Figure size 576x432 with 2 Axes>"
      ]
     },
     "metadata": {
      "needs_background": "light"
     },
     "output_type": "display_data"
    },
    {
     "name": "stdout",
     "output_type": "stream",
     "text": [
      " \n",
      "Model:  GradientBoostingClassifier\n",
      "Train Accuracy:  0.72544\n",
      "Test Accuracy:  0.7479206653870761\n",
      "_________\n",
      "Classification Report:\n",
      "              precision    recall  f1-score   support\n",
      "\n",
      "           0       0.72      0.85      0.78       816\n",
      "           1       0.80      0.64      0.71       747\n",
      "\n",
      "    accuracy                           0.75      1563\n",
      "   macro avg       0.76      0.74      0.74      1563\n",
      "weighted avg       0.76      0.75      0.74      1563\n",
      "\n"
     ]
    }
   ],
   "source": [
    "gb = GradientBoostingClassifier(random_state=42, n_estimators=400, learning_rate = 0.02, min_samples_leaf= 3, subsample= 0.8, min_weight_fraction_leaf= 0.001, max_depth= 4, min_impurity_decrease= 0.0001 , max_leaf_nodes= 9 , verbose = 1)\n",
    "ct = ColumnTransformer([\n",
    "            (\"Encoding\", OneHotEncoder(drop='first'), ['contact', 'housing', 'loan', 'poutcome', 'contact_frequency']),\n",
    "            (\"Binary Encoding\", ce.BinaryEncoder(), ['job','age_job', 'contact_month', 'poutcome_month']),\n",
    "            (\"Ordinal Encoding\", OrdinalEncoder(), ['month', 'age_interval']),\n",
    "            (\"Scalling\", RobustScaler(), ['balance', 'age', 'difference_balance_and_average','campaign', 'pdays', 'campaign_pdays', 'balance_age_ratio']) #Robust Scaler digunakan karena data outlier tetap digunakan\n",
    "        ], remainder='passthrough', verbose_feature_names_out=False)\n",
    "\n",
    "\n",
    "clf = Pipeline([\n",
    "        (\"Feature Transformation\", ct),\n",
    "        (f\"Model {type(gb).__name__}\", gb)\n",
    "    ])\n",
    "cv = StratifiedKFold(n_splits=5, shuffle=True, random_state=42)\n",
    "train_accuracy = cross_val_score(clf, X_train, y_train, cv=cv, scoring='accuracy')\n",
    "clf.fit(X_train, y_train)\n",
    "test_prediction = clf.predict(X_test)\n",
    "test_accuracy = accuracy_score(y_test, test_prediction)\n",
    "cm = confusion_matrix(y_test, test_prediction)\n",
    "classification_rep = classification_report(y_test, test_prediction)\n",
    "\n",
    "plt.figure(figsize=(8,6))\n",
    "sns.heatmap(cm, annot=True, fmt='g', cmap='Blues')\n",
    "plt.xlabel('Predicted')\n",
    "plt.ylabel('True')\n",
    "plt.title(f\"{type(gb).__name__} - Confusion Matrix\")\n",
    "plt.show()\n",
    "\n",
    "print(\" \")\n",
    "print(\"Model: \", type(gb).__name__)\n",
    "print(\"Train Accuracy: \", train_accuracy.mean())\n",
    "print(\"Test Accuracy: \", test_accuracy)\n",
    "print(\"_________\")\n",
    "print(\"Classification Report:\")\n",
    "print(classification_rep)\n"
   ]
  },
  {
   "attachments": {},
   "cell_type": "markdown",
   "metadata": {},
   "source": [
    "Proses ini diterapkan dengan mengatur beberapa parameter dari algoritma GradientBoostingClassifier dimana ditemukan bahwa terdapat improvement untuk nilai akurasi beserta precision, recall, dan f1-score. Parameter ini yang nantinya akan diterapkan hyperparameter tuning untuk mencari kombinasi parameter dengan nilai f1-score terbaik dikarenakan model ini memiliki **permasalahan dari sisi f1-score dimana f1-score ini merupakan sebuah nilai rata-rata dari precision dan recall.** Sebelum masuk ke tahap hyperparameter tuning, dilakukan feature selection terlebih dahulu dengan menggunakan SelectKBest."
   ]
  },
  {
   "attachments": {},
   "cell_type": "markdown",
   "metadata": {},
   "source": [
    "# Feature Selection\n",
    "Kita tidak dapat mengetahui berapa banyak feature yang seharusnya digunakan untuk mendapatkan hasil terbaik sehingga akan digunakan bantuan dari GridSearchCV untuk melakukan testing dari beberapa parameter untuk jumlah feature yang digunakan. "
   ]
  },
  {
   "cell_type": "code",
   "execution_count": null,
   "metadata": {},
   "outputs": [
    {
     "data": {
      "text/html": [
       "<style>#sk-container-id-2 {color: black;background-color: white;}#sk-container-id-2 pre{padding: 0;}#sk-container-id-2 div.sk-toggleable {background-color: white;}#sk-container-id-2 label.sk-toggleable__label {cursor: pointer;display: block;width: 100%;margin-bottom: 0;padding: 0.3em;box-sizing: border-box;text-align: center;}#sk-container-id-2 label.sk-toggleable__label-arrow:before {content: \"▸\";float: left;margin-right: 0.25em;color: #696969;}#sk-container-id-2 label.sk-toggleable__label-arrow:hover:before {color: black;}#sk-container-id-2 div.sk-estimator:hover label.sk-toggleable__label-arrow:before {color: black;}#sk-container-id-2 div.sk-toggleable__content {max-height: 0;max-width: 0;overflow: hidden;text-align: left;background-color: #f0f8ff;}#sk-container-id-2 div.sk-toggleable__content pre {margin: 0.2em;color: black;border-radius: 0.25em;background-color: #f0f8ff;}#sk-container-id-2 input.sk-toggleable__control:checked~div.sk-toggleable__content {max-height: 200px;max-width: 100%;overflow: auto;}#sk-container-id-2 input.sk-toggleable__control:checked~label.sk-toggleable__label-arrow:before {content: \"▾\";}#sk-container-id-2 div.sk-estimator input.sk-toggleable__control:checked~label.sk-toggleable__label {background-color: #d4ebff;}#sk-container-id-2 div.sk-label input.sk-toggleable__control:checked~label.sk-toggleable__label {background-color: #d4ebff;}#sk-container-id-2 input.sk-hidden--visually {border: 0;clip: rect(1px 1px 1px 1px);clip: rect(1px, 1px, 1px, 1px);height: 1px;margin: -1px;overflow: hidden;padding: 0;position: absolute;width: 1px;}#sk-container-id-2 div.sk-estimator {font-family: monospace;background-color: #f0f8ff;border: 1px dotted black;border-radius: 0.25em;box-sizing: border-box;margin-bottom: 0.5em;}#sk-container-id-2 div.sk-estimator:hover {background-color: #d4ebff;}#sk-container-id-2 div.sk-parallel-item::after {content: \"\";width: 100%;border-bottom: 1px solid gray;flex-grow: 1;}#sk-container-id-2 div.sk-label:hover label.sk-toggleable__label {background-color: #d4ebff;}#sk-container-id-2 div.sk-serial::before {content: \"\";position: absolute;border-left: 1px solid gray;box-sizing: border-box;top: 0;bottom: 0;left: 50%;z-index: 0;}#sk-container-id-2 div.sk-serial {display: flex;flex-direction: column;align-items: center;background-color: white;padding-right: 0.2em;padding-left: 0.2em;position: relative;}#sk-container-id-2 div.sk-item {position: relative;z-index: 1;}#sk-container-id-2 div.sk-parallel {display: flex;align-items: stretch;justify-content: center;background-color: white;position: relative;}#sk-container-id-2 div.sk-item::before, #sk-container-id-2 div.sk-parallel-item::before {content: \"\";position: absolute;border-left: 1px solid gray;box-sizing: border-box;top: 0;bottom: 0;left: 50%;z-index: -1;}#sk-container-id-2 div.sk-parallel-item {display: flex;flex-direction: column;z-index: 1;position: relative;background-color: white;}#sk-container-id-2 div.sk-parallel-item:first-child::after {align-self: flex-end;width: 50%;}#sk-container-id-2 div.sk-parallel-item:last-child::after {align-self: flex-start;width: 50%;}#sk-container-id-2 div.sk-parallel-item:only-child::after {width: 0;}#sk-container-id-2 div.sk-dashed-wrapped {border: 1px dashed gray;margin: 0 0.4em 0.5em 0.4em;box-sizing: border-box;padding-bottom: 0.4em;background-color: white;}#sk-container-id-2 div.sk-label label {font-family: monospace;font-weight: bold;display: inline-block;line-height: 1.2em;}#sk-container-id-2 div.sk-label-container {text-align: center;}#sk-container-id-2 div.sk-container {/* jupyter's `normalize.less` sets `[hidden] { display: none; }` but bootstrap.min.css set `[hidden] { display: none !important; }` so we also need the `!important` here to be able to override the default hidden behavior on the sphinx rendered scikit-learn.org. See: https://github.com/scikit-learn/scikit-learn/issues/21755 */display: inline-block !important;position: relative;}#sk-container-id-2 div.sk-text-repr-fallback {display: none;}</style><div id=\"sk-container-id-2\" class=\"sk-top-container\"><div class=\"sk-text-repr-fallback\"><pre>ColumnTransformer(remainder=&#x27;passthrough&#x27;,\n",
       "                  transformers=[(&#x27;Encoding&#x27;, OneHotEncoder(drop=&#x27;first&#x27;),\n",
       "                                 [&#x27;contact&#x27;, &#x27;housing&#x27;, &#x27;loan&#x27;, &#x27;poutcome&#x27;,\n",
       "                                  &#x27;contact_frequency&#x27;]),\n",
       "                                (&#x27;Binary Encoding&#x27;, BinaryEncoder(),\n",
       "                                 [&#x27;job&#x27;, &#x27;age_job&#x27;, &#x27;contact_month&#x27;,\n",
       "                                  &#x27;poutcome_month&#x27;]),\n",
       "                                (&#x27;Ordinal Encoding&#x27;, OrdinalEncoder(),\n",
       "                                 [&#x27;month&#x27;, &#x27;age_interval&#x27;]),\n",
       "                                (&#x27;Scalling&#x27;, RobustScaler(),\n",
       "                                 [&#x27;balance&#x27;, &#x27;age&#x27;,\n",
       "                                  &#x27;difference_balance_and_average&#x27;, &#x27;campaign&#x27;,\n",
       "                                  &#x27;pdays&#x27;, &#x27;campaign_pdays&#x27;,\n",
       "                                  &#x27;balance_age_ratio&#x27;])],\n",
       "                  verbose_feature_names_out=False)</pre><b>In a Jupyter environment, please rerun this cell to show the HTML representation or trust the notebook. <br />On GitHub, the HTML representation is unable to render, please try loading this page with nbviewer.org.</b></div><div class=\"sk-container\" hidden><div class=\"sk-item sk-dashed-wrapped\"><div class=\"sk-label-container\"><div class=\"sk-label sk-toggleable\"><input class=\"sk-toggleable__control sk-hidden--visually\" id=\"sk-estimator-id-12\" type=\"checkbox\" ><label for=\"sk-estimator-id-12\" class=\"sk-toggleable__label sk-toggleable__label-arrow\">ColumnTransformer</label><div class=\"sk-toggleable__content\"><pre>ColumnTransformer(remainder=&#x27;passthrough&#x27;,\n",
       "                  transformers=[(&#x27;Encoding&#x27;, OneHotEncoder(drop=&#x27;first&#x27;),\n",
       "                                 [&#x27;contact&#x27;, &#x27;housing&#x27;, &#x27;loan&#x27;, &#x27;poutcome&#x27;,\n",
       "                                  &#x27;contact_frequency&#x27;]),\n",
       "                                (&#x27;Binary Encoding&#x27;, BinaryEncoder(),\n",
       "                                 [&#x27;job&#x27;, &#x27;age_job&#x27;, &#x27;contact_month&#x27;,\n",
       "                                  &#x27;poutcome_month&#x27;]),\n",
       "                                (&#x27;Ordinal Encoding&#x27;, OrdinalEncoder(),\n",
       "                                 [&#x27;month&#x27;, &#x27;age_interval&#x27;]),\n",
       "                                (&#x27;Scalling&#x27;, RobustScaler(),\n",
       "                                 [&#x27;balance&#x27;, &#x27;age&#x27;,\n",
       "                                  &#x27;difference_balance_and_average&#x27;, &#x27;campaign&#x27;,\n",
       "                                  &#x27;pdays&#x27;, &#x27;campaign_pdays&#x27;,\n",
       "                                  &#x27;balance_age_ratio&#x27;])],\n",
       "                  verbose_feature_names_out=False)</pre></div></div></div><div class=\"sk-parallel\"><div class=\"sk-parallel-item\"><div class=\"sk-item\"><div class=\"sk-label-container\"><div class=\"sk-label sk-toggleable\"><input class=\"sk-toggleable__control sk-hidden--visually\" id=\"sk-estimator-id-13\" type=\"checkbox\" ><label for=\"sk-estimator-id-13\" class=\"sk-toggleable__label sk-toggleable__label-arrow\">Encoding</label><div class=\"sk-toggleable__content\"><pre>[&#x27;contact&#x27;, &#x27;housing&#x27;, &#x27;loan&#x27;, &#x27;poutcome&#x27;, &#x27;contact_frequency&#x27;]</pre></div></div></div><div class=\"sk-serial\"><div class=\"sk-item\"><div class=\"sk-estimator sk-toggleable\"><input class=\"sk-toggleable__control sk-hidden--visually\" id=\"sk-estimator-id-14\" type=\"checkbox\" ><label for=\"sk-estimator-id-14\" class=\"sk-toggleable__label sk-toggleable__label-arrow\">OneHotEncoder</label><div class=\"sk-toggleable__content\"><pre>OneHotEncoder(drop=&#x27;first&#x27;)</pre></div></div></div></div></div></div><div class=\"sk-parallel-item\"><div class=\"sk-item\"><div class=\"sk-label-container\"><div class=\"sk-label sk-toggleable\"><input class=\"sk-toggleable__control sk-hidden--visually\" id=\"sk-estimator-id-15\" type=\"checkbox\" ><label for=\"sk-estimator-id-15\" class=\"sk-toggleable__label sk-toggleable__label-arrow\">Binary Encoding</label><div class=\"sk-toggleable__content\"><pre>[&#x27;job&#x27;, &#x27;age_job&#x27;, &#x27;contact_month&#x27;, &#x27;poutcome_month&#x27;]</pre></div></div></div><div class=\"sk-serial\"><div class=\"sk-item\"><div class=\"sk-estimator sk-toggleable\"><input class=\"sk-toggleable__control sk-hidden--visually\" id=\"sk-estimator-id-16\" type=\"checkbox\" ><label for=\"sk-estimator-id-16\" class=\"sk-toggleable__label sk-toggleable__label-arrow\">BinaryEncoder</label><div class=\"sk-toggleable__content\"><pre>BinaryEncoder()</pre></div></div></div></div></div></div><div class=\"sk-parallel-item\"><div class=\"sk-item\"><div class=\"sk-label-container\"><div class=\"sk-label sk-toggleable\"><input class=\"sk-toggleable__control sk-hidden--visually\" id=\"sk-estimator-id-17\" type=\"checkbox\" ><label for=\"sk-estimator-id-17\" class=\"sk-toggleable__label sk-toggleable__label-arrow\">Ordinal Encoding</label><div class=\"sk-toggleable__content\"><pre>[&#x27;month&#x27;, &#x27;age_interval&#x27;]</pre></div></div></div><div class=\"sk-serial\"><div class=\"sk-item\"><div class=\"sk-estimator sk-toggleable\"><input class=\"sk-toggleable__control sk-hidden--visually\" id=\"sk-estimator-id-18\" type=\"checkbox\" ><label for=\"sk-estimator-id-18\" class=\"sk-toggleable__label sk-toggleable__label-arrow\">OrdinalEncoder</label><div class=\"sk-toggleable__content\"><pre>OrdinalEncoder()</pre></div></div></div></div></div></div><div class=\"sk-parallel-item\"><div class=\"sk-item\"><div class=\"sk-label-container\"><div class=\"sk-label sk-toggleable\"><input class=\"sk-toggleable__control sk-hidden--visually\" id=\"sk-estimator-id-19\" type=\"checkbox\" ><label for=\"sk-estimator-id-19\" class=\"sk-toggleable__label sk-toggleable__label-arrow\">Scalling</label><div class=\"sk-toggleable__content\"><pre>[&#x27;balance&#x27;, &#x27;age&#x27;, &#x27;difference_balance_and_average&#x27;, &#x27;campaign&#x27;, &#x27;pdays&#x27;, &#x27;campaign_pdays&#x27;, &#x27;balance_age_ratio&#x27;]</pre></div></div></div><div class=\"sk-serial\"><div class=\"sk-item\"><div class=\"sk-estimator sk-toggleable\"><input class=\"sk-toggleable__control sk-hidden--visually\" id=\"sk-estimator-id-20\" type=\"checkbox\" ><label for=\"sk-estimator-id-20\" class=\"sk-toggleable__label sk-toggleable__label-arrow\">RobustScaler</label><div class=\"sk-toggleable__content\"><pre>RobustScaler()</pre></div></div></div></div></div></div><div class=\"sk-parallel-item\"><div class=\"sk-item\"><div class=\"sk-label-container\"><div class=\"sk-label sk-toggleable\"><input class=\"sk-toggleable__control sk-hidden--visually\" id=\"sk-estimator-id-21\" type=\"checkbox\" ><label for=\"sk-estimator-id-21\" class=\"sk-toggleable__label sk-toggleable__label-arrow\">remainder</label><div class=\"sk-toggleable__content\"><pre>[&#x27;debt&#x27;]</pre></div></div></div><div class=\"sk-serial\"><div class=\"sk-item\"><div class=\"sk-estimator sk-toggleable\"><input class=\"sk-toggleable__control sk-hidden--visually\" id=\"sk-estimator-id-22\" type=\"checkbox\" ><label for=\"sk-estimator-id-22\" class=\"sk-toggleable__label sk-toggleable__label-arrow\">passthrough</label><div class=\"sk-toggleable__content\"><pre>passthrough</pre></div></div></div></div></div></div></div></div></div></div>"
      ],
      "text/plain": [
       "ColumnTransformer(remainder='passthrough',\n",
       "                  transformers=[('Encoding', OneHotEncoder(drop='first'),\n",
       "                                 ['contact', 'housing', 'loan', 'poutcome',\n",
       "                                  'contact_frequency']),\n",
       "                                ('Binary Encoding', BinaryEncoder(),\n",
       "                                 ['job', 'age_job', 'contact_month',\n",
       "                                  'poutcome_month']),\n",
       "                                ('Ordinal Encoding', OrdinalEncoder(),\n",
       "                                 ['month', 'age_interval']),\n",
       "                                ('Scalling', RobustScaler(),\n",
       "                                 ['balance', 'age',\n",
       "                                  'difference_balance_and_average', 'campaign',\n",
       "                                  'pdays', 'campaign_pdays',\n",
       "                                  'balance_age_ratio'])],\n",
       "                  verbose_feature_names_out=False)"
      ]
     },
     "execution_count": 232,
     "metadata": {},
     "output_type": "execute_result"
    }
   ],
   "source": [
    "ct.fit(X_train)"
   ]
  },
  {
   "cell_type": "code",
   "execution_count": null,
   "metadata": {},
   "outputs": [
    {
     "name": "stdout",
     "output_type": "stream",
     "text": [
      "(6250, 44)\n"
     ]
    }
   ],
   "source": [
    "X_train_pre = ct.transform(X_train)\n",
    "print(X_train_pre.shape)"
   ]
  },
  {
   "cell_type": "code",
   "execution_count": null,
   "metadata": {},
   "outputs": [
    {
     "name": "stdout",
     "output_type": "stream",
     "text": [
      "Fitting 5 folds for each of 6 candidates, totalling 30 fits\n",
      "[CV 1/5] END ......................Select__k=38;, score=0.678 total time=   5.8s\n",
      "[CV 2/5] END ......................Select__k=38;, score=0.671 total time=   4.9s\n",
      "[CV 3/5] END ......................Select__k=38;, score=0.675 total time=   4.7s\n",
      "[CV 4/5] END ......................Select__k=38;, score=0.667 total time=   4.9s\n",
      "[CV 5/5] END ......................Select__k=38;, score=0.716 total time=   4.9s\n",
      "[CV 1/5] END ......................Select__k=39;, score=0.682 total time=   5.1s\n",
      "[CV 2/5] END ......................Select__k=39;, score=0.664 total time=   4.7s\n",
      "[CV 3/5] END ......................Select__k=39;, score=0.674 total time=   4.5s\n",
      "[CV 4/5] END ......................Select__k=39;, score=0.669 total time=   4.3s\n",
      "[CV 5/5] END ......................Select__k=39;, score=0.719 total time=   4.0s\n",
      "[CV 1/5] END ......................Select__k=40;, score=0.676 total time=   4.8s\n",
      "[CV 2/5] END ......................Select__k=40;, score=0.667 total time=   4.6s\n",
      "[CV 3/5] END ......................Select__k=40;, score=0.672 total time=   4.6s\n",
      "[CV 4/5] END ......................Select__k=40;, score=0.669 total time=   5.0s\n",
      "[CV 5/5] END ......................Select__k=40;, score=0.713 total time=   4.5s\n",
      "[CV 1/5] END ......................Select__k=41;, score=0.676 total time=   5.1s\n",
      "[CV 2/5] END ......................Select__k=41;, score=0.668 total time=   6.7s\n",
      "[CV 3/5] END ......................Select__k=41;, score=0.673 total time=   7.2s\n",
      "[CV 4/5] END ......................Select__k=41;, score=0.669 total time=   5.8s\n",
      "[CV 5/5] END ......................Select__k=41;, score=0.715 total time=   5.3s\n",
      "[CV 1/5] END ......................Select__k=42;, score=0.676 total time=   5.7s\n",
      "[CV 2/5] END ......................Select__k=42;, score=0.665 total time=   5.8s\n",
      "[CV 3/5] END ......................Select__k=42;, score=0.674 total time=   6.1s\n",
      "[CV 4/5] END ......................Select__k=42;, score=0.671 total time=   4.9s\n",
      "[CV 5/5] END ......................Select__k=42;, score=0.714 total time=   5.1s\n",
      "[CV 1/5] END ......................Select__k=44;, score=0.681 total time=   4.5s\n",
      "[CV 2/5] END ......................Select__k=44;, score=0.667 total time=   4.5s\n",
      "[CV 3/5] END ......................Select__k=44;, score=0.673 total time=   5.8s\n",
      "[CV 4/5] END ......................Select__k=44;, score=0.672 total time=   5.4s\n",
      "[CV 5/5] END ......................Select__k=44;, score=0.716 total time=   4.7s\n",
      "Best Parameter Feature Selection : {'Select__k': 44}\n",
      "Best Parameter Feature Selection F1-Score: 0.6818414721648602\n",
      "Best Parameter Feature Selection Test Accuracy: 0.7479206653870761\n"
     ]
    }
   ],
   "source": [
    "from sklearn.feature_selection import SelectKBest\n",
    "from sklearn.model_selection import GridSearchCV\n",
    "\n",
    "ct = ColumnTransformer([\n",
    "            (\"Encoding\", OneHotEncoder(drop='first'), ['contact', 'housing', 'loan', 'poutcome', 'contact_frequency']),\n",
    "             (\"Binary Encoding\", ce.BinaryEncoder(), ['job', 'age_job', 'contact_month', 'poutcome_month']),\n",
    "            (\"Ordinal Encoding\", OrdinalEncoder(), ['month', 'age_interval']),\n",
    "            (\"Scalling\", RobustScaler(), ['balance', 'age', 'difference_balance_and_average','campaign', 'pdays', 'campaign_pdays', 'balance_age_ratio']) #Robust Scaler digunakan karena data outlier tetap digunakan\n",
    "        ], remainder='passthrough', verbose_feature_names_out=False)\n",
    "\n",
    "fs = Pipeline([\n",
    "        ('Feature Transformation', ct),\n",
    "        ('Select', SelectKBest()),\n",
    "        (\"Model\", GradientBoostingClassifier(random_state=42, n_estimators=400, learning_rate = 0.02, min_samples_leaf= 3, subsample= 0.8, min_weight_fraction_leaf= 0.001, max_depth= 4, min_impurity_decrease= 0.0001 , max_leaf_nodes= 9))\n",
    "    ])\n",
    "\n",
    "param_grid = {\n",
    "        'Select__k':[ 38, 39, 40, 41, 42, 44]\n",
    "    }\n",
    "\n",
    "cv = StratifiedKFold(n_splits=5, shuffle=True, random_state=42)\n",
    "grid_search_feature_selection = GridSearchCV(fs, param_grid=param_grid, scoring = 'f1', cv = cv, verbose = 4)\n",
    "grid_search_feature_selection.fit(X_train, y_train)\n",
    "\n",
    "print(f\"Best Parameter Feature Selection :\", grid_search_feature_selection.best_params_)\n",
    "print(f\"Best Parameter Feature Selection F1-Score:\", grid_search_feature_selection.best_score_)\n",
    "test_accuracy = grid_search_feature_selection.best_estimator_.score(X_test, y_test)\n",
    "print(f\"Best Parameter Feature Selection Test Accuracy:\", test_accuracy)"
   ]
  },
  {
   "attachments": {},
   "cell_type": "markdown",
   "metadata": {},
   "source": [
    "Dapat dilihat bahwa hasil terbaik didapatkan dari tidak adanya penghapusan feature dan terlihat bahwa **f1-score yang diperoleh berbeda dengan f1-score yang terdapat pada f1-score sebelumnya yang terdapat pada classification report. Hal ini disebabkan karena f1-score yang ditampilkan disini merupakan f1-score dari GridSearch dan juga f1-score ini didapatkan untuk data training, sedangkan f1-score pada classification report merupakan hasil dari data testing.**"
   ]
  },
  {
   "attachments": {},
   "cell_type": "markdown",
   "metadata": {},
   "source": [
    "# Hyperparameter Tuning Model Terbaik"
   ]
  },
  {
   "cell_type": "code",
   "execution_count": null,
   "metadata": {},
   "outputs": [
    {
     "name": "stdout",
     "output_type": "stream",
     "text": [
      "Fitting 5 folds for each of 24 candidates, totalling 120 fits\n",
      "[CV 1/5] END Model__learning_rate=0.02, Model__loss=log_loss, Model__max_depth=3, Model__max_leaf_nodes=9, Model__min_impurity_decrease=0.0001, Model__min_samples_leaf=4, Model__min_weight_fraction_leaf=0.001, Model__n_estimators=400, Model__subsample=0.8;, score=0.674 total time=   4.2s\n",
      "[CV 2/5] END Model__learning_rate=0.02, Model__loss=log_loss, Model__max_depth=3, Model__max_leaf_nodes=9, Model__min_impurity_decrease=0.0001, Model__min_samples_leaf=4, Model__min_weight_fraction_leaf=0.001, Model__n_estimators=400, Model__subsample=0.8;, score=0.668 total time=   4.1s\n",
      "[CV 3/5] END Model__learning_rate=0.02, Model__loss=log_loss, Model__max_depth=3, Model__max_leaf_nodes=9, Model__min_impurity_decrease=0.0001, Model__min_samples_leaf=4, Model__min_weight_fraction_leaf=0.001, Model__n_estimators=400, Model__subsample=0.8;, score=0.671 total time=   4.0s\n",
      "[CV 4/5] END Model__learning_rate=0.02, Model__loss=log_loss, Model__max_depth=3, Model__max_leaf_nodes=9, Model__min_impurity_decrease=0.0001, Model__min_samples_leaf=4, Model__min_weight_fraction_leaf=0.001, Model__n_estimators=400, Model__subsample=0.8;, score=0.661 total time=   4.0s\n",
      "[CV 5/5] END Model__learning_rate=0.02, Model__loss=log_loss, Model__max_depth=3, Model__max_leaf_nodes=9, Model__min_impurity_decrease=0.0001, Model__min_samples_leaf=4, Model__min_weight_fraction_leaf=0.001, Model__n_estimators=400, Model__subsample=0.8;, score=0.718 total time=   3.9s\n",
      "[CV 1/5] END Model__learning_rate=0.02, Model__loss=log_loss, Model__max_depth=3, Model__max_leaf_nodes=9, Model__min_impurity_decrease=0.0001, Model__min_samples_leaf=4, Model__min_weight_fraction_leaf=0.001, Model__n_estimators=500, Model__subsample=0.8;, score=0.676 total time=   4.8s\n",
      "[CV 2/5] END Model__learning_rate=0.02, Model__loss=log_loss, Model__max_depth=3, Model__max_leaf_nodes=9, Model__min_impurity_decrease=0.0001, Model__min_samples_leaf=4, Model__min_weight_fraction_leaf=0.001, Model__n_estimators=500, Model__subsample=0.8;, score=0.667 total time=   4.9s\n",
      "[CV 3/5] END Model__learning_rate=0.02, Model__loss=log_loss, Model__max_depth=3, Model__max_leaf_nodes=9, Model__min_impurity_decrease=0.0001, Model__min_samples_leaf=4, Model__min_weight_fraction_leaf=0.001, Model__n_estimators=500, Model__subsample=0.8;, score=0.672 total time=   4.9s\n",
      "[CV 4/5] END Model__learning_rate=0.02, Model__loss=log_loss, Model__max_depth=3, Model__max_leaf_nodes=9, Model__min_impurity_decrease=0.0001, Model__min_samples_leaf=4, Model__min_weight_fraction_leaf=0.001, Model__n_estimators=500, Model__subsample=0.8;, score=0.665 total time=   4.8s\n",
      "[CV 5/5] END Model__learning_rate=0.02, Model__loss=log_loss, Model__max_depth=3, Model__max_leaf_nodes=9, Model__min_impurity_decrease=0.0001, Model__min_samples_leaf=4, Model__min_weight_fraction_leaf=0.001, Model__n_estimators=500, Model__subsample=0.8;, score=0.716 total time=   5.0s\n",
      "[CV 1/5] END Model__learning_rate=0.02, Model__loss=log_loss, Model__max_depth=4, Model__max_leaf_nodes=9, Model__min_impurity_decrease=0.0001, Model__min_samples_leaf=4, Model__min_weight_fraction_leaf=0.001, Model__n_estimators=400, Model__subsample=0.8;, score=0.681 total time=   4.7s\n",
      "[CV 2/5] END Model__learning_rate=0.02, Model__loss=log_loss, Model__max_depth=4, Model__max_leaf_nodes=9, Model__min_impurity_decrease=0.0001, Model__min_samples_leaf=4, Model__min_weight_fraction_leaf=0.001, Model__n_estimators=400, Model__subsample=0.8;, score=0.667 total time=   4.7s\n",
      "[CV 3/5] END Model__learning_rate=0.02, Model__loss=log_loss, Model__max_depth=4, Model__max_leaf_nodes=9, Model__min_impurity_decrease=0.0001, Model__min_samples_leaf=4, Model__min_weight_fraction_leaf=0.001, Model__n_estimators=400, Model__subsample=0.8;, score=0.673 total time=   4.8s\n",
      "[CV 4/5] END Model__learning_rate=0.02, Model__loss=log_loss, Model__max_depth=4, Model__max_leaf_nodes=9, Model__min_impurity_decrease=0.0001, Model__min_samples_leaf=4, Model__min_weight_fraction_leaf=0.001, Model__n_estimators=400, Model__subsample=0.8;, score=0.672 total time=   4.7s\n",
      "[CV 5/5] END Model__learning_rate=0.02, Model__loss=log_loss, Model__max_depth=4, Model__max_leaf_nodes=9, Model__min_impurity_decrease=0.0001, Model__min_samples_leaf=4, Model__min_weight_fraction_leaf=0.001, Model__n_estimators=400, Model__subsample=0.8;, score=0.716 total time=   4.8s\n",
      "[CV 1/5] END Model__learning_rate=0.02, Model__loss=log_loss, Model__max_depth=4, Model__max_leaf_nodes=9, Model__min_impurity_decrease=0.0001, Model__min_samples_leaf=4, Model__min_weight_fraction_leaf=0.001, Model__n_estimators=500, Model__subsample=0.8;, score=0.675 total time=   5.9s\n",
      "[CV 2/5] END Model__learning_rate=0.02, Model__loss=log_loss, Model__max_depth=4, Model__max_leaf_nodes=9, Model__min_impurity_decrease=0.0001, Model__min_samples_leaf=4, Model__min_weight_fraction_leaf=0.001, Model__n_estimators=500, Model__subsample=0.8;, score=0.669 total time=   5.8s\n",
      "[CV 3/5] END Model__learning_rate=0.02, Model__loss=log_loss, Model__max_depth=4, Model__max_leaf_nodes=9, Model__min_impurity_decrease=0.0001, Model__min_samples_leaf=4, Model__min_weight_fraction_leaf=0.001, Model__n_estimators=500, Model__subsample=0.8;, score=0.672 total time=   5.9s\n",
      "[CV 4/5] END Model__learning_rate=0.02, Model__loss=log_loss, Model__max_depth=4, Model__max_leaf_nodes=9, Model__min_impurity_decrease=0.0001, Model__min_samples_leaf=4, Model__min_weight_fraction_leaf=0.001, Model__n_estimators=500, Model__subsample=0.8;, score=0.670 total time=   5.9s\n",
      "[CV 5/5] END Model__learning_rate=0.02, Model__loss=log_loss, Model__max_depth=4, Model__max_leaf_nodes=9, Model__min_impurity_decrease=0.0001, Model__min_samples_leaf=4, Model__min_weight_fraction_leaf=0.001, Model__n_estimators=500, Model__subsample=0.8;, score=0.719 total time=   5.8s\n",
      "[CV 1/5] END Model__learning_rate=0.02, Model__loss=log_loss, Model__max_depth=5, Model__max_leaf_nodes=9, Model__min_impurity_decrease=0.0001, Model__min_samples_leaf=4, Model__min_weight_fraction_leaf=0.001, Model__n_estimators=400, Model__subsample=0.8;, score=0.680 total time=   5.0s\n",
      "[CV 2/5] END Model__learning_rate=0.02, Model__loss=log_loss, Model__max_depth=5, Model__max_leaf_nodes=9, Model__min_impurity_decrease=0.0001, Model__min_samples_leaf=4, Model__min_weight_fraction_leaf=0.001, Model__n_estimators=400, Model__subsample=0.8;, score=0.667 total time=   5.0s\n",
      "[CV 3/5] END Model__learning_rate=0.02, Model__loss=log_loss, Model__max_depth=5, Model__max_leaf_nodes=9, Model__min_impurity_decrease=0.0001, Model__min_samples_leaf=4, Model__min_weight_fraction_leaf=0.001, Model__n_estimators=400, Model__subsample=0.8;, score=0.677 total time=   4.7s\n",
      "[CV 4/5] END Model__learning_rate=0.02, Model__loss=log_loss, Model__max_depth=5, Model__max_leaf_nodes=9, Model__min_impurity_decrease=0.0001, Model__min_samples_leaf=4, Model__min_weight_fraction_leaf=0.001, Model__n_estimators=400, Model__subsample=0.8;, score=0.665 total time=   4.6s\n",
      "[CV 5/5] END Model__learning_rate=0.02, Model__loss=log_loss, Model__max_depth=5, Model__max_leaf_nodes=9, Model__min_impurity_decrease=0.0001, Model__min_samples_leaf=4, Model__min_weight_fraction_leaf=0.001, Model__n_estimators=400, Model__subsample=0.8;, score=0.712 total time=   5.8s\n",
      "[CV 1/5] END Model__learning_rate=0.02, Model__loss=log_loss, Model__max_depth=5, Model__max_leaf_nodes=9, Model__min_impurity_decrease=0.0001, Model__min_samples_leaf=4, Model__min_weight_fraction_leaf=0.001, Model__n_estimators=500, Model__subsample=0.8;, score=0.671 total time=   6.3s\n",
      "[CV 2/5] END Model__learning_rate=0.02, Model__loss=log_loss, Model__max_depth=5, Model__max_leaf_nodes=9, Model__min_impurity_decrease=0.0001, Model__min_samples_leaf=4, Model__min_weight_fraction_leaf=0.001, Model__n_estimators=500, Model__subsample=0.8;, score=0.672 total time=   6.2s\n",
      "[CV 3/5] END Model__learning_rate=0.02, Model__loss=log_loss, Model__max_depth=5, Model__max_leaf_nodes=9, Model__min_impurity_decrease=0.0001, Model__min_samples_leaf=4, Model__min_weight_fraction_leaf=0.001, Model__n_estimators=500, Model__subsample=0.8;, score=0.675 total time=   6.8s\n",
      "[CV 4/5] END Model__learning_rate=0.02, Model__loss=log_loss, Model__max_depth=5, Model__max_leaf_nodes=9, Model__min_impurity_decrease=0.0001, Model__min_samples_leaf=4, Model__min_weight_fraction_leaf=0.001, Model__n_estimators=500, Model__subsample=0.8;, score=0.665 total time=   6.2s\n",
      "[CV 5/5] END Model__learning_rate=0.02, Model__loss=log_loss, Model__max_depth=5, Model__max_leaf_nodes=9, Model__min_impurity_decrease=0.0001, Model__min_samples_leaf=4, Model__min_weight_fraction_leaf=0.001, Model__n_estimators=500, Model__subsample=0.8;, score=0.718 total time=   6.1s\n",
      "[CV 1/5] END Model__learning_rate=0.02, Model__loss=exponential, Model__max_depth=3, Model__max_leaf_nodes=9, Model__min_impurity_decrease=0.0001, Model__min_samples_leaf=4, Model__min_weight_fraction_leaf=0.001, Model__n_estimators=400, Model__subsample=0.8;, score=0.673 total time=   3.9s\n",
      "[CV 2/5] END Model__learning_rate=0.02, Model__loss=exponential, Model__max_depth=3, Model__max_leaf_nodes=9, Model__min_impurity_decrease=0.0001, Model__min_samples_leaf=4, Model__min_weight_fraction_leaf=0.001, Model__n_estimators=400, Model__subsample=0.8;, score=0.669 total time=   3.8s\n",
      "[CV 3/5] END Model__learning_rate=0.02, Model__loss=exponential, Model__max_depth=3, Model__max_leaf_nodes=9, Model__min_impurity_decrease=0.0001, Model__min_samples_leaf=4, Model__min_weight_fraction_leaf=0.001, Model__n_estimators=400, Model__subsample=0.8;, score=0.665 total time=   3.8s\n",
      "[CV 4/5] END Model__learning_rate=0.02, Model__loss=exponential, Model__max_depth=3, Model__max_leaf_nodes=9, Model__min_impurity_decrease=0.0001, Model__min_samples_leaf=4, Model__min_weight_fraction_leaf=0.001, Model__n_estimators=400, Model__subsample=0.8;, score=0.664 total time=   4.0s\n",
      "[CV 5/5] END Model__learning_rate=0.02, Model__loss=exponential, Model__max_depth=3, Model__max_leaf_nodes=9, Model__min_impurity_decrease=0.0001, Model__min_samples_leaf=4, Model__min_weight_fraction_leaf=0.001, Model__n_estimators=400, Model__subsample=0.8;, score=0.715 total time=   3.8s\n",
      "[CV 1/5] END Model__learning_rate=0.02, Model__loss=exponential, Model__max_depth=3, Model__max_leaf_nodes=9, Model__min_impurity_decrease=0.0001, Model__min_samples_leaf=4, Model__min_weight_fraction_leaf=0.001, Model__n_estimators=500, Model__subsample=0.8;, score=0.673 total time=   4.7s\n",
      "[CV 2/5] END Model__learning_rate=0.02, Model__loss=exponential, Model__max_depth=3, Model__max_leaf_nodes=9, Model__min_impurity_decrease=0.0001, Model__min_samples_leaf=4, Model__min_weight_fraction_leaf=0.001, Model__n_estimators=500, Model__subsample=0.8;, score=0.669 total time=   4.8s\n",
      "[CV 3/5] END Model__learning_rate=0.02, Model__loss=exponential, Model__max_depth=3, Model__max_leaf_nodes=9, Model__min_impurity_decrease=0.0001, Model__min_samples_leaf=4, Model__min_weight_fraction_leaf=0.001, Model__n_estimators=500, Model__subsample=0.8;, score=0.671 total time=   5.1s\n",
      "[CV 4/5] END Model__learning_rate=0.02, Model__loss=exponential, Model__max_depth=3, Model__max_leaf_nodes=9, Model__min_impurity_decrease=0.0001, Model__min_samples_leaf=4, Model__min_weight_fraction_leaf=0.001, Model__n_estimators=500, Model__subsample=0.8;, score=0.667 total time=   5.1s\n",
      "[CV 5/5] END Model__learning_rate=0.02, Model__loss=exponential, Model__max_depth=3, Model__max_leaf_nodes=9, Model__min_impurity_decrease=0.0001, Model__min_samples_leaf=4, Model__min_weight_fraction_leaf=0.001, Model__n_estimators=500, Model__subsample=0.8;, score=0.718 total time=   5.4s\n",
      "[CV 1/5] END Model__learning_rate=0.02, Model__loss=exponential, Model__max_depth=4, Model__max_leaf_nodes=9, Model__min_impurity_decrease=0.0001, Model__min_samples_leaf=4, Model__min_weight_fraction_leaf=0.001, Model__n_estimators=400, Model__subsample=0.8;, score=0.671 total time=   4.7s\n",
      "[CV 2/5] END Model__learning_rate=0.02, Model__loss=exponential, Model__max_depth=4, Model__max_leaf_nodes=9, Model__min_impurity_decrease=0.0001, Model__min_samples_leaf=4, Model__min_weight_fraction_leaf=0.001, Model__n_estimators=400, Model__subsample=0.8;, score=0.669 total time=   4.8s\n",
      "[CV 3/5] END Model__learning_rate=0.02, Model__loss=exponential, Model__max_depth=4, Model__max_leaf_nodes=9, Model__min_impurity_decrease=0.0001, Model__min_samples_leaf=4, Model__min_weight_fraction_leaf=0.001, Model__n_estimators=400, Model__subsample=0.8;, score=0.675 total time=   4.9s\n",
      "[CV 4/5] END Model__learning_rate=0.02, Model__loss=exponential, Model__max_depth=4, Model__max_leaf_nodes=9, Model__min_impurity_decrease=0.0001, Model__min_samples_leaf=4, Model__min_weight_fraction_leaf=0.001, Model__n_estimators=400, Model__subsample=0.8;, score=0.667 total time=   4.7s\n",
      "[CV 5/5] END Model__learning_rate=0.02, Model__loss=exponential, Model__max_depth=4, Model__max_leaf_nodes=9, Model__min_impurity_decrease=0.0001, Model__min_samples_leaf=4, Model__min_weight_fraction_leaf=0.001, Model__n_estimators=400, Model__subsample=0.8;, score=0.715 total time=   4.7s\n",
      "[CV 1/5] END Model__learning_rate=0.02, Model__loss=exponential, Model__max_depth=4, Model__max_leaf_nodes=9, Model__min_impurity_decrease=0.0001, Model__min_samples_leaf=4, Model__min_weight_fraction_leaf=0.001, Model__n_estimators=500, Model__subsample=0.8;, score=0.665 total time=   5.8s\n",
      "[CV 2/5] END Model__learning_rate=0.02, Model__loss=exponential, Model__max_depth=4, Model__max_leaf_nodes=9, Model__min_impurity_decrease=0.0001, Model__min_samples_leaf=4, Model__min_weight_fraction_leaf=0.001, Model__n_estimators=500, Model__subsample=0.8;, score=0.667 total time=   5.7s\n",
      "[CV 3/5] END Model__learning_rate=0.02, Model__loss=exponential, Model__max_depth=4, Model__max_leaf_nodes=9, Model__min_impurity_decrease=0.0001, Model__min_samples_leaf=4, Model__min_weight_fraction_leaf=0.001, Model__n_estimators=500, Model__subsample=0.8;, score=0.674 total time=   5.9s\n",
      "[CV 4/5] END Model__learning_rate=0.02, Model__loss=exponential, Model__max_depth=4, Model__max_leaf_nodes=9, Model__min_impurity_decrease=0.0001, Model__min_samples_leaf=4, Model__min_weight_fraction_leaf=0.001, Model__n_estimators=500, Model__subsample=0.8;, score=0.668 total time=   5.8s\n",
      "[CV 5/5] END Model__learning_rate=0.02, Model__loss=exponential, Model__max_depth=4, Model__max_leaf_nodes=9, Model__min_impurity_decrease=0.0001, Model__min_samples_leaf=4, Model__min_weight_fraction_leaf=0.001, Model__n_estimators=500, Model__subsample=0.8;, score=0.721 total time=   5.9s\n",
      "[CV 1/5] END Model__learning_rate=0.02, Model__loss=exponential, Model__max_depth=5, Model__max_leaf_nodes=9, Model__min_impurity_decrease=0.0001, Model__min_samples_leaf=4, Model__min_weight_fraction_leaf=0.001, Model__n_estimators=400, Model__subsample=0.8;, score=0.667 total time=   4.9s\n",
      "[CV 2/5] END Model__learning_rate=0.02, Model__loss=exponential, Model__max_depth=5, Model__max_leaf_nodes=9, Model__min_impurity_decrease=0.0001, Model__min_samples_leaf=4, Model__min_weight_fraction_leaf=0.001, Model__n_estimators=400, Model__subsample=0.8;, score=0.665 total time=   4.9s\n",
      "[CV 3/5] END Model__learning_rate=0.02, Model__loss=exponential, Model__max_depth=5, Model__max_leaf_nodes=9, Model__min_impurity_decrease=0.0001, Model__min_samples_leaf=4, Model__min_weight_fraction_leaf=0.001, Model__n_estimators=400, Model__subsample=0.8;, score=0.676 total time=   5.0s\n",
      "[CV 4/5] END Model__learning_rate=0.02, Model__loss=exponential, Model__max_depth=5, Model__max_leaf_nodes=9, Model__min_impurity_decrease=0.0001, Model__min_samples_leaf=4, Model__min_weight_fraction_leaf=0.001, Model__n_estimators=400, Model__subsample=0.8;, score=0.669 total time=   4.9s\n",
      "[CV 5/5] END Model__learning_rate=0.02, Model__loss=exponential, Model__max_depth=5, Model__max_leaf_nodes=9, Model__min_impurity_decrease=0.0001, Model__min_samples_leaf=4, Model__min_weight_fraction_leaf=0.001, Model__n_estimators=400, Model__subsample=0.8;, score=0.715 total time=   5.0s\n",
      "[CV 1/5] END Model__learning_rate=0.02, Model__loss=exponential, Model__max_depth=5, Model__max_leaf_nodes=9, Model__min_impurity_decrease=0.0001, Model__min_samples_leaf=4, Model__min_weight_fraction_leaf=0.001, Model__n_estimators=500, Model__subsample=0.8;, score=0.670 total time=   6.0s\n",
      "[CV 2/5] END Model__learning_rate=0.02, Model__loss=exponential, Model__max_depth=5, Model__max_leaf_nodes=9, Model__min_impurity_decrease=0.0001, Model__min_samples_leaf=4, Model__min_weight_fraction_leaf=0.001, Model__n_estimators=500, Model__subsample=0.8;, score=0.665 total time=   6.2s\n",
      "[CV 3/5] END Model__learning_rate=0.02, Model__loss=exponential, Model__max_depth=5, Model__max_leaf_nodes=9, Model__min_impurity_decrease=0.0001, Model__min_samples_leaf=4, Model__min_weight_fraction_leaf=0.001, Model__n_estimators=500, Model__subsample=0.8;, score=0.676 total time=   6.2s\n",
      "[CV 4/5] END Model__learning_rate=0.02, Model__loss=exponential, Model__max_depth=5, Model__max_leaf_nodes=9, Model__min_impurity_decrease=0.0001, Model__min_samples_leaf=4, Model__min_weight_fraction_leaf=0.001, Model__n_estimators=500, Model__subsample=0.8;, score=0.668 total time=   6.1s\n",
      "[CV 5/5] END Model__learning_rate=0.02, Model__loss=exponential, Model__max_depth=5, Model__max_leaf_nodes=9, Model__min_impurity_decrease=0.0001, Model__min_samples_leaf=4, Model__min_weight_fraction_leaf=0.001, Model__n_estimators=500, Model__subsample=0.8;, score=0.721 total time=   6.3s\n",
      "[CV 1/5] END Model__learning_rate=0.025, Model__loss=log_loss, Model__max_depth=3, Model__max_leaf_nodes=9, Model__min_impurity_decrease=0.0001, Model__min_samples_leaf=4, Model__min_weight_fraction_leaf=0.001, Model__n_estimators=400, Model__subsample=0.8;, score=0.673 total time=   3.9s\n",
      "[CV 2/5] END Model__learning_rate=0.025, Model__loss=log_loss, Model__max_depth=3, Model__max_leaf_nodes=9, Model__min_impurity_decrease=0.0001, Model__min_samples_leaf=4, Model__min_weight_fraction_leaf=0.001, Model__n_estimators=400, Model__subsample=0.8;, score=0.673 total time=   3.9s\n",
      "[CV 3/5] END Model__learning_rate=0.025, Model__loss=log_loss, Model__max_depth=3, Model__max_leaf_nodes=9, Model__min_impurity_decrease=0.0001, Model__min_samples_leaf=4, Model__min_weight_fraction_leaf=0.001, Model__n_estimators=400, Model__subsample=0.8;, score=0.668 total time=   3.9s\n",
      "[CV 4/5] END Model__learning_rate=0.025, Model__loss=log_loss, Model__max_depth=3, Model__max_leaf_nodes=9, Model__min_impurity_decrease=0.0001, Model__min_samples_leaf=4, Model__min_weight_fraction_leaf=0.001, Model__n_estimators=400, Model__subsample=0.8;, score=0.669 total time=   3.9s\n",
      "[CV 5/5] END Model__learning_rate=0.025, Model__loss=log_loss, Model__max_depth=3, Model__max_leaf_nodes=9, Model__min_impurity_decrease=0.0001, Model__min_samples_leaf=4, Model__min_weight_fraction_leaf=0.001, Model__n_estimators=400, Model__subsample=0.8;, score=0.715 total time=   3.9s\n",
      "[CV 1/5] END Model__learning_rate=0.025, Model__loss=log_loss, Model__max_depth=3, Model__max_leaf_nodes=9, Model__min_impurity_decrease=0.0001, Model__min_samples_leaf=4, Model__min_weight_fraction_leaf=0.001, Model__n_estimators=500, Model__subsample=0.8;, score=0.673 total time=   4.6s\n",
      "[CV 2/5] END Model__learning_rate=0.025, Model__loss=log_loss, Model__max_depth=3, Model__max_leaf_nodes=9, Model__min_impurity_decrease=0.0001, Model__min_samples_leaf=4, Model__min_weight_fraction_leaf=0.001, Model__n_estimators=500, Model__subsample=0.8;, score=0.672 total time=   4.6s\n",
      "[CV 3/5] END Model__learning_rate=0.025, Model__loss=log_loss, Model__max_depth=3, Model__max_leaf_nodes=9, Model__min_impurity_decrease=0.0001, Model__min_samples_leaf=4, Model__min_weight_fraction_leaf=0.001, Model__n_estimators=500, Model__subsample=0.8;, score=0.669 total time=   4.8s\n",
      "[CV 4/5] END Model__learning_rate=0.025, Model__loss=log_loss, Model__max_depth=3, Model__max_leaf_nodes=9, Model__min_impurity_decrease=0.0001, Model__min_samples_leaf=4, Model__min_weight_fraction_leaf=0.001, Model__n_estimators=500, Model__subsample=0.8;, score=0.670 total time=   4.8s\n",
      "[CV 5/5] END Model__learning_rate=0.025, Model__loss=log_loss, Model__max_depth=3, Model__max_leaf_nodes=9, Model__min_impurity_decrease=0.0001, Model__min_samples_leaf=4, Model__min_weight_fraction_leaf=0.001, Model__n_estimators=500, Model__subsample=0.8;, score=0.723 total time=   4.8s\n",
      "[CV 1/5] END Model__learning_rate=0.025, Model__loss=log_loss, Model__max_depth=4, Model__max_leaf_nodes=9, Model__min_impurity_decrease=0.0001, Model__min_samples_leaf=4, Model__min_weight_fraction_leaf=0.001, Model__n_estimators=400, Model__subsample=0.8;, score=0.673 total time=   4.5s\n",
      "[CV 2/5] END Model__learning_rate=0.025, Model__loss=log_loss, Model__max_depth=4, Model__max_leaf_nodes=9, Model__min_impurity_decrease=0.0001, Model__min_samples_leaf=4, Model__min_weight_fraction_leaf=0.001, Model__n_estimators=400, Model__subsample=0.8;, score=0.668 total time=   4.4s\n",
      "[CV 3/5] END Model__learning_rate=0.025, Model__loss=log_loss, Model__max_depth=4, Model__max_leaf_nodes=9, Model__min_impurity_decrease=0.0001, Model__min_samples_leaf=4, Model__min_weight_fraction_leaf=0.001, Model__n_estimators=400, Model__subsample=0.8;, score=0.677 total time=   4.6s\n",
      "[CV 4/5] END Model__learning_rate=0.025, Model__loss=log_loss, Model__max_depth=4, Model__max_leaf_nodes=9, Model__min_impurity_decrease=0.0001, Model__min_samples_leaf=4, Model__min_weight_fraction_leaf=0.001, Model__n_estimators=400, Model__subsample=0.8;, score=0.671 total time=   4.6s\n",
      "[CV 5/5] END Model__learning_rate=0.025, Model__loss=log_loss, Model__max_depth=4, Model__max_leaf_nodes=9, Model__min_impurity_decrease=0.0001, Model__min_samples_leaf=4, Model__min_weight_fraction_leaf=0.001, Model__n_estimators=400, Model__subsample=0.8;, score=0.714 total time=   4.5s\n",
      "[CV 1/5] END Model__learning_rate=0.025, Model__loss=log_loss, Model__max_depth=4, Model__max_leaf_nodes=9, Model__min_impurity_decrease=0.0001, Model__min_samples_leaf=4, Model__min_weight_fraction_leaf=0.001, Model__n_estimators=500, Model__subsample=0.8;, score=0.675 total time=   5.9s\n",
      "[CV 2/5] END Model__learning_rate=0.025, Model__loss=log_loss, Model__max_depth=4, Model__max_leaf_nodes=9, Model__min_impurity_decrease=0.0001, Model__min_samples_leaf=4, Model__min_weight_fraction_leaf=0.001, Model__n_estimators=500, Model__subsample=0.8;, score=0.669 total time=   5.8s\n",
      "[CV 3/5] END Model__learning_rate=0.025, Model__loss=log_loss, Model__max_depth=4, Model__max_leaf_nodes=9, Model__min_impurity_decrease=0.0001, Model__min_samples_leaf=4, Model__min_weight_fraction_leaf=0.001, Model__n_estimators=500, Model__subsample=0.8;, score=0.670 total time=   5.7s\n",
      "[CV 4/5] END Model__learning_rate=0.025, Model__loss=log_loss, Model__max_depth=4, Model__max_leaf_nodes=9, Model__min_impurity_decrease=0.0001, Model__min_samples_leaf=4, Model__min_weight_fraction_leaf=0.001, Model__n_estimators=500, Model__subsample=0.8;, score=0.665 total time=   5.5s\n",
      "[CV 5/5] END Model__learning_rate=0.025, Model__loss=log_loss, Model__max_depth=4, Model__max_leaf_nodes=9, Model__min_impurity_decrease=0.0001, Model__min_samples_leaf=4, Model__min_weight_fraction_leaf=0.001, Model__n_estimators=500, Model__subsample=0.8;, score=0.716 total time=   5.6s\n",
      "[CV 1/5] END Model__learning_rate=0.025, Model__loss=log_loss, Model__max_depth=5, Model__max_leaf_nodes=9, Model__min_impurity_decrease=0.0001, Model__min_samples_leaf=4, Model__min_weight_fraction_leaf=0.001, Model__n_estimators=400, Model__subsample=0.8;, score=0.674 total time=   4.7s\n",
      "[CV 2/5] END Model__learning_rate=0.025, Model__loss=log_loss, Model__max_depth=5, Model__max_leaf_nodes=9, Model__min_impurity_decrease=0.0001, Model__min_samples_leaf=4, Model__min_weight_fraction_leaf=0.001, Model__n_estimators=400, Model__subsample=0.8;, score=0.669 total time=   4.7s\n",
      "[CV 3/5] END Model__learning_rate=0.025, Model__loss=log_loss, Model__max_depth=5, Model__max_leaf_nodes=9, Model__min_impurity_decrease=0.0001, Model__min_samples_leaf=4, Model__min_weight_fraction_leaf=0.001, Model__n_estimators=400, Model__subsample=0.8;, score=0.674 total time=   5.2s\n",
      "[CV 4/5] END Model__learning_rate=0.025, Model__loss=log_loss, Model__max_depth=5, Model__max_leaf_nodes=9, Model__min_impurity_decrease=0.0001, Model__min_samples_leaf=4, Model__min_weight_fraction_leaf=0.001, Model__n_estimators=400, Model__subsample=0.8;, score=0.672 total time=   4.8s\n",
      "[CV 5/5] END Model__learning_rate=0.025, Model__loss=log_loss, Model__max_depth=5, Model__max_leaf_nodes=9, Model__min_impurity_decrease=0.0001, Model__min_samples_leaf=4, Model__min_weight_fraction_leaf=0.001, Model__n_estimators=400, Model__subsample=0.8;, score=0.715 total time=   5.0s\n",
      "[CV 1/5] END Model__learning_rate=0.025, Model__loss=log_loss, Model__max_depth=5, Model__max_leaf_nodes=9, Model__min_impurity_decrease=0.0001, Model__min_samples_leaf=4, Model__min_weight_fraction_leaf=0.001, Model__n_estimators=500, Model__subsample=0.8;, score=0.667 total time=   6.1s\n",
      "[CV 2/5] END Model__learning_rate=0.025, Model__loss=log_loss, Model__max_depth=5, Model__max_leaf_nodes=9, Model__min_impurity_decrease=0.0001, Model__min_samples_leaf=4, Model__min_weight_fraction_leaf=0.001, Model__n_estimators=500, Model__subsample=0.8;, score=0.667 total time=   6.2s\n",
      "[CV 3/5] END Model__learning_rate=0.025, Model__loss=log_loss, Model__max_depth=5, Model__max_leaf_nodes=9, Model__min_impurity_decrease=0.0001, Model__min_samples_leaf=4, Model__min_weight_fraction_leaf=0.001, Model__n_estimators=500, Model__subsample=0.8;, score=0.671 total time=   6.0s\n",
      "[CV 4/5] END Model__learning_rate=0.025, Model__loss=log_loss, Model__max_depth=5, Model__max_leaf_nodes=9, Model__min_impurity_decrease=0.0001, Model__min_samples_leaf=4, Model__min_weight_fraction_leaf=0.001, Model__n_estimators=500, Model__subsample=0.8;, score=0.661 total time=   6.0s\n",
      "[CV 5/5] END Model__learning_rate=0.025, Model__loss=log_loss, Model__max_depth=5, Model__max_leaf_nodes=9, Model__min_impurity_decrease=0.0001, Model__min_samples_leaf=4, Model__min_weight_fraction_leaf=0.001, Model__n_estimators=500, Model__subsample=0.8;, score=0.714 total time=   6.3s\n",
      "[CV 1/5] END Model__learning_rate=0.025, Model__loss=exponential, Model__max_depth=3, Model__max_leaf_nodes=9, Model__min_impurity_decrease=0.0001, Model__min_samples_leaf=4, Model__min_weight_fraction_leaf=0.001, Model__n_estimators=400, Model__subsample=0.8;, score=0.673 total time=   4.0s\n",
      "[CV 2/5] END Model__learning_rate=0.025, Model__loss=exponential, Model__max_depth=3, Model__max_leaf_nodes=9, Model__min_impurity_decrease=0.0001, Model__min_samples_leaf=4, Model__min_weight_fraction_leaf=0.001, Model__n_estimators=400, Model__subsample=0.8;, score=0.670 total time=   3.9s\n",
      "[CV 3/5] END Model__learning_rate=0.025, Model__loss=exponential, Model__max_depth=3, Model__max_leaf_nodes=9, Model__min_impurity_decrease=0.0001, Model__min_samples_leaf=4, Model__min_weight_fraction_leaf=0.001, Model__n_estimators=400, Model__subsample=0.8;, score=0.670 total time=   3.9s\n",
      "[CV 4/5] END Model__learning_rate=0.025, Model__loss=exponential, Model__max_depth=3, Model__max_leaf_nodes=9, Model__min_impurity_decrease=0.0001, Model__min_samples_leaf=4, Model__min_weight_fraction_leaf=0.001, Model__n_estimators=400, Model__subsample=0.8;, score=0.668 total time=   3.9s\n",
      "[CV 5/5] END Model__learning_rate=0.025, Model__loss=exponential, Model__max_depth=3, Model__max_leaf_nodes=9, Model__min_impurity_decrease=0.0001, Model__min_samples_leaf=4, Model__min_weight_fraction_leaf=0.001, Model__n_estimators=400, Model__subsample=0.8;, score=0.718 total time=   4.0s\n",
      "[CV 1/5] END Model__learning_rate=0.025, Model__loss=exponential, Model__max_depth=3, Model__max_leaf_nodes=9, Model__min_impurity_decrease=0.0001, Model__min_samples_leaf=4, Model__min_weight_fraction_leaf=0.001, Model__n_estimators=500, Model__subsample=0.8;, score=0.673 total time=   5.1s\n",
      "[CV 2/5] END Model__learning_rate=0.025, Model__loss=exponential, Model__max_depth=3, Model__max_leaf_nodes=9, Model__min_impurity_decrease=0.0001, Model__min_samples_leaf=4, Model__min_weight_fraction_leaf=0.001, Model__n_estimators=500, Model__subsample=0.8;, score=0.673 total time=   4.9s\n",
      "[CV 3/5] END Model__learning_rate=0.025, Model__loss=exponential, Model__max_depth=3, Model__max_leaf_nodes=9, Model__min_impurity_decrease=0.0001, Model__min_samples_leaf=4, Model__min_weight_fraction_leaf=0.001, Model__n_estimators=500, Model__subsample=0.8;, score=0.669 total time=   5.0s\n",
      "[CV 4/5] END Model__learning_rate=0.025, Model__loss=exponential, Model__max_depth=3, Model__max_leaf_nodes=9, Model__min_impurity_decrease=0.0001, Model__min_samples_leaf=4, Model__min_weight_fraction_leaf=0.001, Model__n_estimators=500, Model__subsample=0.8;, score=0.668 total time=   5.0s\n",
      "[CV 5/5] END Model__learning_rate=0.025, Model__loss=exponential, Model__max_depth=3, Model__max_leaf_nodes=9, Model__min_impurity_decrease=0.0001, Model__min_samples_leaf=4, Model__min_weight_fraction_leaf=0.001, Model__n_estimators=500, Model__subsample=0.8;, score=0.714 total time=   5.0s\n",
      "[CV 1/5] END Model__learning_rate=0.025, Model__loss=exponential, Model__max_depth=4, Model__max_leaf_nodes=9, Model__min_impurity_decrease=0.0001, Model__min_samples_leaf=4, Model__min_weight_fraction_leaf=0.001, Model__n_estimators=400, Model__subsample=0.8;, score=0.674 total time=   4.7s\n",
      "[CV 2/5] END Model__learning_rate=0.025, Model__loss=exponential, Model__max_depth=4, Model__max_leaf_nodes=9, Model__min_impurity_decrease=0.0001, Model__min_samples_leaf=4, Model__min_weight_fraction_leaf=0.001, Model__n_estimators=400, Model__subsample=0.8;, score=0.662 total time=   4.8s\n",
      "[CV 3/5] END Model__learning_rate=0.025, Model__loss=exponential, Model__max_depth=4, Model__max_leaf_nodes=9, Model__min_impurity_decrease=0.0001, Model__min_samples_leaf=4, Model__min_weight_fraction_leaf=0.001, Model__n_estimators=400, Model__subsample=0.8;, score=0.672 total time=   4.7s\n",
      "[CV 4/5] END Model__learning_rate=0.025, Model__loss=exponential, Model__max_depth=4, Model__max_leaf_nodes=9, Model__min_impurity_decrease=0.0001, Model__min_samples_leaf=4, Model__min_weight_fraction_leaf=0.001, Model__n_estimators=400, Model__subsample=0.8;, score=0.672 total time=   4.7s\n",
      "[CV 5/5] END Model__learning_rate=0.025, Model__loss=exponential, Model__max_depth=4, Model__max_leaf_nodes=9, Model__min_impurity_decrease=0.0001, Model__min_samples_leaf=4, Model__min_weight_fraction_leaf=0.001, Model__n_estimators=400, Model__subsample=0.8;, score=0.718 total time=   4.7s\n",
      "[CV 1/5] END Model__learning_rate=0.025, Model__loss=exponential, Model__max_depth=4, Model__max_leaf_nodes=9, Model__min_impurity_decrease=0.0001, Model__min_samples_leaf=4, Model__min_weight_fraction_leaf=0.001, Model__n_estimators=500, Model__subsample=0.8;, score=0.672 total time=   5.7s\n",
      "[CV 2/5] END Model__learning_rate=0.025, Model__loss=exponential, Model__max_depth=4, Model__max_leaf_nodes=9, Model__min_impurity_decrease=0.0001, Model__min_samples_leaf=4, Model__min_weight_fraction_leaf=0.001, Model__n_estimators=500, Model__subsample=0.8;, score=0.669 total time=   5.9s\n",
      "[CV 3/5] END Model__learning_rate=0.025, Model__loss=exponential, Model__max_depth=4, Model__max_leaf_nodes=9, Model__min_impurity_decrease=0.0001, Model__min_samples_leaf=4, Model__min_weight_fraction_leaf=0.001, Model__n_estimators=500, Model__subsample=0.8;, score=0.670 total time=   5.9s\n",
      "[CV 4/5] END Model__learning_rate=0.025, Model__loss=exponential, Model__max_depth=4, Model__max_leaf_nodes=9, Model__min_impurity_decrease=0.0001, Model__min_samples_leaf=4, Model__min_weight_fraction_leaf=0.001, Model__n_estimators=500, Model__subsample=0.8;, score=0.665 total time=   6.0s\n",
      "[CV 5/5] END Model__learning_rate=0.025, Model__loss=exponential, Model__max_depth=4, Model__max_leaf_nodes=9, Model__min_impurity_decrease=0.0001, Model__min_samples_leaf=4, Model__min_weight_fraction_leaf=0.001, Model__n_estimators=500, Model__subsample=0.8;, score=0.719 total time=   5.7s\n",
      "[CV 1/5] END Model__learning_rate=0.025, Model__loss=exponential, Model__max_depth=5, Model__max_leaf_nodes=9, Model__min_impurity_decrease=0.0001, Model__min_samples_leaf=4, Model__min_weight_fraction_leaf=0.001, Model__n_estimators=400, Model__subsample=0.8;, score=0.672 total time=   4.6s\n",
      "[CV 2/5] END Model__learning_rate=0.025, Model__loss=exponential, Model__max_depth=5, Model__max_leaf_nodes=9, Model__min_impurity_decrease=0.0001, Model__min_samples_leaf=4, Model__min_weight_fraction_leaf=0.001, Model__n_estimators=400, Model__subsample=0.8;, score=0.661 total time=   4.7s\n",
      "[CV 3/5] END Model__learning_rate=0.025, Model__loss=exponential, Model__max_depth=5, Model__max_leaf_nodes=9, Model__min_impurity_decrease=0.0001, Model__min_samples_leaf=4, Model__min_weight_fraction_leaf=0.001, Model__n_estimators=400, Model__subsample=0.8;, score=0.679 total time=   4.9s\n",
      "[CV 4/5] END Model__learning_rate=0.025, Model__loss=exponential, Model__max_depth=5, Model__max_leaf_nodes=9, Model__min_impurity_decrease=0.0001, Model__min_samples_leaf=4, Model__min_weight_fraction_leaf=0.001, Model__n_estimators=400, Model__subsample=0.8;, score=0.665 total time=   4.7s\n",
      "[CV 5/5] END Model__learning_rate=0.025, Model__loss=exponential, Model__max_depth=5, Model__max_leaf_nodes=9, Model__min_impurity_decrease=0.0001, Model__min_samples_leaf=4, Model__min_weight_fraction_leaf=0.001, Model__n_estimators=400, Model__subsample=0.8;, score=0.718 total time=   4.7s\n",
      "[CV 1/5] END Model__learning_rate=0.025, Model__loss=exponential, Model__max_depth=5, Model__max_leaf_nodes=9, Model__min_impurity_decrease=0.0001, Model__min_samples_leaf=4, Model__min_weight_fraction_leaf=0.001, Model__n_estimators=500, Model__subsample=0.8;, score=0.672 total time=   5.7s\n",
      "[CV 2/5] END Model__learning_rate=0.025, Model__loss=exponential, Model__max_depth=5, Model__max_leaf_nodes=9, Model__min_impurity_decrease=0.0001, Model__min_samples_leaf=4, Model__min_weight_fraction_leaf=0.001, Model__n_estimators=500, Model__subsample=0.8;, score=0.666 total time=   5.8s\n",
      "[CV 3/5] END Model__learning_rate=0.025, Model__loss=exponential, Model__max_depth=5, Model__max_leaf_nodes=9, Model__min_impurity_decrease=0.0001, Model__min_samples_leaf=4, Model__min_weight_fraction_leaf=0.001, Model__n_estimators=500, Model__subsample=0.8;, score=0.678 total time=   5.8s\n",
      "[CV 4/5] END Model__learning_rate=0.025, Model__loss=exponential, Model__max_depth=5, Model__max_leaf_nodes=9, Model__min_impurity_decrease=0.0001, Model__min_samples_leaf=4, Model__min_weight_fraction_leaf=0.001, Model__n_estimators=500, Model__subsample=0.8;, score=0.666 total time=   5.8s\n",
      "[CV 5/5] END Model__learning_rate=0.025, Model__loss=exponential, Model__max_depth=5, Model__max_leaf_nodes=9, Model__min_impurity_decrease=0.0001, Model__min_samples_leaf=4, Model__min_weight_fraction_leaf=0.001, Model__n_estimators=500, Model__subsample=0.8;, score=0.717 total time=   5.8s\n"
     ]
    },
    {
     "data": {
      "image/png": "[encoded data removed]",
      "text/plain": [
       "<Figure size 576x432 with 2 Axes>"
      ]
     },
     "metadata": {
      "needs_background": "light"
     },
     "output_type": "display_data"
    },
    {
     "name": "stdout",
     "output_type": "stream",
     "text": [
      "Classification Report:\n",
      "              precision    recall  f1-score   support\n",
      "\n",
      "           0       0.72      0.85      0.78       816\n",
      "           1       0.80      0.64      0.71       747\n",
      "\n",
      "    accuracy                           0.75      1563\n",
      "   macro avg       0.76      0.74      0.74      1563\n",
      "weighted avg       0.76      0.75      0.74      1563\n",
      "\n",
      " \n",
      "Best Parameters GBC:  {'Model__learning_rate': 0.02, 'Model__loss': 'log_loss', 'Model__max_depth': 4, 'Model__max_leaf_nodes': 9, 'Model__min_impurity_decrease': 0.0001, 'Model__min_samples_leaf': 4, 'Model__min_weight_fraction_leaf': 0.001, 'Model__n_estimators': 400, 'Model__subsample': 0.8}\n",
      "F1-Score Best Parameters GBC:  0.6818414721648602\n",
      "Test Accuracy Best Parameters GBC:  0.7479206653870761\n",
      "_________\n"
     ]
    }
   ],
   "source": [
    "ct = ColumnTransformer([\n",
    "            (\"Encoding\", OneHotEncoder(drop='first'), ['contact', 'housing', 'loan', 'poutcome', 'contact_frequency']),\n",
    "             (\"Binary Encoding\", ce.BinaryEncoder(), ['job', 'age_job', 'contact_month', 'poutcome_month']),\n",
    "            (\"Ordinal Encoding\", OrdinalEncoder(), ['month', 'age_interval']),\n",
    "            (\"Scalling\", RobustScaler(), ['balance', 'age', 'difference_balance_and_average','campaign', 'pdays', 'campaign_pdays', 'balance_age_ratio']) #Robust Scaler digunakan karena data outlier tetap digunakan\n",
    "        ], remainder='passthrough', verbose_feature_names_out=False)\n",
    "\n",
    "gbc = GradientBoostingClassifier(random_state=42)\n",
    "GradientBoostingClassifier(random_state=42, min_samples_leaf= 3 ,subsample= 0.8, min_impurity_decrease= 0.0001 , max_leaf_nodes= 9)\n",
    "pipe = Pipeline([\n",
    "    (\"Feature Transformation\", ct),\n",
    "    ('Select', SelectKBest(k = 44)),\n",
    "    (\"Model\", gbc)\n",
    "])\n",
    "\n",
    "param_grid = {\n",
    "    'Model__learning_rate': [0.02, 0.025],\n",
    "    'Model__n_estimators': [400, 500],\n",
    "    'Model__max_depth': [3, 4, 5],\n",
    "    'Model__min_weight_fraction_leaf':[0.001],\n",
    "    'Model__min_samples_leaf':[4],\n",
    "    'Model__subsample':[0.8],\n",
    "    'Model__min_impurity_decrease':[0.0001],\n",
    "    'Model__max_leaf_nodes':[9],\n",
    "    'Model__loss':['log_loss', 'exponential'],\n",
    "}\n",
    "\n",
    "cv = StratifiedKFold(n_splits=5, shuffle=True, random_state=42)\n",
    "# Perform grid search\n",
    "grid_search = GridSearchCV(pipe, param_grid=param_grid, cv=cv, scoring='f1',  verbose=4)\n",
    "grid_search.fit(X_train, y_train)\n",
    "\n",
    "# Get the best model\n",
    "best_ens = grid_search.best_estimator_\n",
    "\n",
    "# Evaluate the best model on the test set\n",
    "test_prediction = best_ens.predict(X_test)\n",
    "test_accuracy = accuracy_score(y_test, test_prediction)\n",
    "cm = confusion_matrix(y_test, test_prediction)\n",
    "classification_rep = classification_report(y_test, test_prediction)\n",
    "\n",
    "plt.figure(figsize=(8,6))\n",
    "sns.heatmap(cm, annot=True, fmt='g', cmap='Blues')\n",
    "plt.xlabel('Predicted')\n",
    "plt.ylabel('True')\n",
    "plt.title(f\"{type(gb).__name__} - Confusion Matrix\")\n",
    "plt.show()\n",
    "\n",
    "print(\"Classification Report:\")\n",
    "print(classification_rep)\n",
    "\n",
    "print(\" \")\n",
    "print(\"Best Parameters GBC: \", grid_search.best_params_)\n",
    "print(\"F1-Score Best Parameters GBC: \", grid_search.best_score_)\n",
    "print(\"Test Accuracy Best Parameters GBC: \", test_accuracy)\n",
    "print(\"_________\")\n"
   ]
  },
  {
   "attachments": {},
   "cell_type": "markdown",
   "metadata": {},
   "source": [
    "Dari hal ini, dapat dilihat bahwa metode hyperparameter tuning tetap mendapatkan hasil terbaik seperti sebelumnya untuk parameter f1-score dimana model ini menjadi model yang dipilih dan akan dideploy melalui pickle. **Alasan pemilihan f1-score ini sendiri adalah karena permasalahan dari model yang telah dibuat sebelumnya merupakan angka f1-score yang rendah dan juga dapat dilihat ketika terdapat peningkatan angka f1-score, akurasi pada data test juga meningkat sehingga metode hyperparameter tuning ini sendiri bertujuan untuk mengurangi permasalahan pada angka f1-score.**"
   ]
  },
  {
   "cell_type": "code",
   "execution_count": null,
   "metadata": {},
   "outputs": [
    {
     "name": "stdout",
     "output_type": "stream",
     "text": [
      "                                   Feature  Importance\n",
      "5                         poutcome_success    0.220543\n",
      "1                          contact_unknown    0.143432\n",
      "34                                   month    0.105513\n",
      "43                                      12    0.085019\n",
      "37                                     age    0.077905\n",
      "42                       balance_age_ratio    0.064246\n",
      "40                                   pdays    0.044519\n",
      "39                                campaign    0.037722\n",
      "36                                 balance    0.033827\n",
      "38          difference_balance_and_average    0.031747\n",
      "41                          campaign_pdays    0.016359\n",
      "24                        xcontact_month_2    0.015621\n",
      "29                       xpoutcome_month_1    0.012451\n",
      "0                        contact_telephone    0.011931\n",
      "25                        xcontact_month_3    0.010117\n",
      "23                        xcontact_month_1    0.010010\n",
      "28                       xpoutcome_month_0    0.008761\n",
      "31                       xpoutcome_month_3    0.008317\n",
      "27                        xcontact_month_5    0.008187\n",
      "3                                 loan_yes    0.007953\n",
      "10                                  xjob_1    0.006680\n",
      "26                        xcontact_month_4    0.005052\n",
      "35                            age_interval    0.003756\n",
      "2                              housing_yes    0.003639\n",
      "17                              xage_job_4    0.002537\n",
      "21                              xage_job_8    0.002320\n",
      "13                              xage_job_0    0.002135\n",
      "33                       xpoutcome_month_5    0.001817\n",
      "16                              xage_job_3    0.001802\n",
      "18                              xage_job_5    0.001747\n",
      "19                              xage_job_6    0.001739\n",
      "32                       xpoutcome_month_4    0.001687\n",
      "20                              xage_job_7    0.001620\n",
      "11                                  xjob_2    0.001403\n",
      "15                              xage_job_2    0.001349\n",
      "7   contact_frequency_Moderately Contacted    0.001120\n",
      "14                              xage_job_1    0.000973\n",
      "12                                  xjob_3    0.000967\n",
      "22                        xcontact_month_0    0.000929\n",
      "4                           poutcome_other    0.000900\n",
      "9                                   xjob_0    0.000645\n",
      "30                       xpoutcome_month_2    0.000578\n",
      "8       contact_frequency_Rarely Contacted    0.000350\n",
      "6                         poutcome_unknown    0.000078\n"
     ]
    }
   ],
   "source": [
    "selected_features = []\n",
    "for transformer_name, transformer, columns in best_ens.named_steps['Feature Transformation'].transformers_:\n",
    "    if hasattr(transformer, 'get_feature_names_out'):\n",
    "        if transformer_name == 'Binary Encoding':\n",
    "            feature_names = ['x'+name for name in transformer.get_feature_names_out()]\n",
    "        else:\n",
    "            feature_names = transformer.get_feature_names_out()\n",
    "        selected_features.extend(feature_names)\n",
    "    else:\n",
    "        selected_features.extend(columns)\n",
    "importance_df = pd.DataFrame({'Feature': selected_features})\n",
    "feature_importances = best_ens.named_steps['Model'].feature_importances_\n",
    "importance_df['Importance'] = feature_importances\n",
    "importance_df = importance_df.sort_values(by='Importance', ascending=False)\n",
    "print(importance_df)"
   ]
  },
  {
   "cell_type": "code",
   "execution_count": null,
   "metadata": {},
   "outputs": [
    {
     "data": {
      "text/plain": [
       "(1563, 19)"
      ]
     },
     "execution_count": 279,
     "metadata": {},
     "output_type": "execute_result"
    }
   ],
   "source": [
    "X_test.shape"
   ]
  },
  {
   "cell_type": "code",
   "execution_count": null,
   "metadata": {},
   "outputs": [],
   "source": [
    "df_X_test = X_test.reset_index(drop=True)"
   ]
  },
  {
   "cell_type": "code",
   "execution_count": null,
   "metadata": {},
   "outputs": [],
   "source": [
    "df_test = pd.concat([df_X_test, pd.Series(test_prediction, name='Predicted')], axis=1)"
   ]
  },
  {
   "cell_type": "code",
   "execution_count": null,
   "metadata": {},
   "outputs": [
    {
     "data": {
      "text/html": [
       "<div>\n",
       "<style scoped>\n",
       "    .dataframe tbody tr th:only-of-type {\n",
       "        vertical-align: middle;\n",
       "    }\n",
       "\n",
       "    .dataframe tbody tr th {\n",
       "        vertical-align: top;\n",
       "    }\n",
       "\n",
       "    .dataframe thead th {\n",
       "        text-align: right;\n",
       "    }\n",
       "</style>\n",
       "<table border=\"1\" class=\"dataframe\">\n",
       "  <thead>\n",
       "    <tr style=\"text-align: right;\">\n",
       "      <th></th>\n",
       "      <th>age</th>\n",
       "      <th>job</th>\n",
       "      <th>balance</th>\n",
       "      <th>housing</th>\n",
       "      <th>loan</th>\n",
       "      <th>contact</th>\n",
       "      <th>month</th>\n",
       "      <th>campaign</th>\n",
       "      <th>pdays</th>\n",
       "      <th>poutcome</th>\n",
       "      <th>contact_frequency</th>\n",
       "      <th>age_interval</th>\n",
       "      <th>debt</th>\n",
       "      <th>difference_balance_and_average</th>\n",
       "      <th>poutcome_month</th>\n",
       "      <th>age_job</th>\n",
       "      <th>contact_month</th>\n",
       "      <th>balance_age_ratio</th>\n",
       "      <th>campaign_pdays</th>\n",
       "      <th>Predicted</th>\n",
       "    </tr>\n",
       "  </thead>\n",
       "  <tbody>\n",
       "    <tr>\n",
       "      <th>0</th>\n",
       "      <td>32</td>\n",
       "      <td>management</td>\n",
       "      <td>-383</td>\n",
       "      <td>yes</td>\n",
       "      <td>no</td>\n",
       "      <td>unknown</td>\n",
       "      <td>may</td>\n",
       "      <td>1</td>\n",
       "      <td>0</td>\n",
       "      <td>unknown</td>\n",
       "      <td>Rarely Contacted</td>\n",
       "      <td>28 - 32</td>\n",
       "      <td>1</td>\n",
       "      <td>1895.448611</td>\n",
       "      <td>unknown_may</td>\n",
       "      <td>32_management</td>\n",
       "      <td>unknown_may</td>\n",
       "      <td>-11.968750</td>\n",
       "      <td>0</td>\n",
       "      <td>0</td>\n",
       "    </tr>\n",
       "    <tr>\n",
       "      <th>1</th>\n",
       "      <td>37</td>\n",
       "      <td>services</td>\n",
       "      <td>608</td>\n",
       "      <td>no</td>\n",
       "      <td>no</td>\n",
       "      <td>cellular</td>\n",
       "      <td>may</td>\n",
       "      <td>3</td>\n",
       "      <td>0</td>\n",
       "      <td>unknown</td>\n",
       "      <td>Moderately Contacted</td>\n",
       "      <td>33 - 37</td>\n",
       "      <td>0</td>\n",
       "      <td>904.448611</td>\n",
       "      <td>unknown_may</td>\n",
       "      <td>37_services</td>\n",
       "      <td>cellular_may</td>\n",
       "      <td>16.432432</td>\n",
       "      <td>0</td>\n",
       "      <td>1</td>\n",
       "    </tr>\n",
       "    <tr>\n",
       "      <th>2</th>\n",
       "      <td>31</td>\n",
       "      <td>admin.</td>\n",
       "      <td>-422</td>\n",
       "      <td>yes</td>\n",
       "      <td>no</td>\n",
       "      <td>cellular</td>\n",
       "      <td>may</td>\n",
       "      <td>2</td>\n",
       "      <td>329</td>\n",
       "      <td>other</td>\n",
       "      <td>Rarely Contacted</td>\n",
       "      <td>28 - 32</td>\n",
       "      <td>1</td>\n",
       "      <td>1934.448611</td>\n",
       "      <td>other_may</td>\n",
       "      <td>31_admin.</td>\n",
       "      <td>cellular_may</td>\n",
       "      <td>-13.612903</td>\n",
       "      <td>-658</td>\n",
       "      <td>0</td>\n",
       "    </tr>\n",
       "    <tr>\n",
       "      <th>3</th>\n",
       "      <td>30</td>\n",
       "      <td>blue-collar</td>\n",
       "      <td>128</td>\n",
       "      <td>yes</td>\n",
       "      <td>no</td>\n",
       "      <td>unknown</td>\n",
       "      <td>may</td>\n",
       "      <td>1</td>\n",
       "      <td>0</td>\n",
       "      <td>unknown</td>\n",
       "      <td>Rarely Contacted</td>\n",
       "      <td>28 - 32</td>\n",
       "      <td>1</td>\n",
       "      <td>1384.448611</td>\n",
       "      <td>unknown_may</td>\n",
       "      <td>30_blue-collar</td>\n",
       "      <td>unknown_may</td>\n",
       "      <td>4.266667</td>\n",
       "      <td>0</td>\n",
       "      <td>0</td>\n",
       "    </tr>\n",
       "    <tr>\n",
       "      <th>4</th>\n",
       "      <td>56</td>\n",
       "      <td>management</td>\n",
       "      <td>7747</td>\n",
       "      <td>no</td>\n",
       "      <td>no</td>\n",
       "      <td>unknown</td>\n",
       "      <td>jun</td>\n",
       "      <td>2</td>\n",
       "      <td>0</td>\n",
       "      <td>unknown</td>\n",
       "      <td>Rarely Contacted</td>\n",
       "      <td>53 - 57</td>\n",
       "      <td>0</td>\n",
       "      <td>6234.551389</td>\n",
       "      <td>unknown_jun</td>\n",
       "      <td>56_management</td>\n",
       "      <td>unknown_jun</td>\n",
       "      <td>138.339286</td>\n",
       "      <td>0</td>\n",
       "      <td>0</td>\n",
       "    </tr>\n",
       "    <tr>\n",
       "      <th>...</th>\n",
       "      <td>...</td>\n",
       "      <td>...</td>\n",
       "      <td>...</td>\n",
       "      <td>...</td>\n",
       "      <td>...</td>\n",
       "      <td>...</td>\n",
       "      <td>...</td>\n",
       "      <td>...</td>\n",
       "      <td>...</td>\n",
       "      <td>...</td>\n",
       "      <td>...</td>\n",
       "      <td>...</td>\n",
       "      <td>...</td>\n",
       "      <td>...</td>\n",
       "      <td>...</td>\n",
       "      <td>...</td>\n",
       "      <td>...</td>\n",
       "      <td>...</td>\n",
       "      <td>...</td>\n",
       "      <td>...</td>\n",
       "    </tr>\n",
       "    <tr>\n",
       "      <th>1558</th>\n",
       "      <td>41</td>\n",
       "      <td>technician</td>\n",
       "      <td>30</td>\n",
       "      <td>yes</td>\n",
       "      <td>no</td>\n",
       "      <td>cellular</td>\n",
       "      <td>jul</td>\n",
       "      <td>1</td>\n",
       "      <td>0</td>\n",
       "      <td>unknown</td>\n",
       "      <td>Rarely Contacted</td>\n",
       "      <td>38 - 42</td>\n",
       "      <td>1</td>\n",
       "      <td>1482.448611</td>\n",
       "      <td>unknown_jul</td>\n",
       "      <td>41_technician</td>\n",
       "      <td>cellular_jul</td>\n",
       "      <td>0.731707</td>\n",
       "      <td>0</td>\n",
       "      <td>0</td>\n",
       "    </tr>\n",
       "    <tr>\n",
       "      <th>1559</th>\n",
       "      <td>30</td>\n",
       "      <td>management</td>\n",
       "      <td>398</td>\n",
       "      <td>no</td>\n",
       "      <td>no</td>\n",
       "      <td>cellular</td>\n",
       "      <td>apr</td>\n",
       "      <td>2</td>\n",
       "      <td>0</td>\n",
       "      <td>unknown</td>\n",
       "      <td>Rarely Contacted</td>\n",
       "      <td>28 - 32</td>\n",
       "      <td>0</td>\n",
       "      <td>1114.448611</td>\n",
       "      <td>unknown_apr</td>\n",
       "      <td>30_management</td>\n",
       "      <td>cellular_apr</td>\n",
       "      <td>13.266667</td>\n",
       "      <td>0</td>\n",
       "      <td>1</td>\n",
       "    </tr>\n",
       "    <tr>\n",
       "      <th>1560</th>\n",
       "      <td>45</td>\n",
       "      <td>management</td>\n",
       "      <td>80</td>\n",
       "      <td>no</td>\n",
       "      <td>yes</td>\n",
       "      <td>cellular</td>\n",
       "      <td>nov</td>\n",
       "      <td>1</td>\n",
       "      <td>0</td>\n",
       "      <td>unknown</td>\n",
       "      <td>Rarely Contacted</td>\n",
       "      <td>43 - 47</td>\n",
       "      <td>1</td>\n",
       "      <td>1432.448611</td>\n",
       "      <td>unknown_nov</td>\n",
       "      <td>45_management</td>\n",
       "      <td>cellular_nov</td>\n",
       "      <td>1.777778</td>\n",
       "      <td>0</td>\n",
       "      <td>0</td>\n",
       "    </tr>\n",
       "    <tr>\n",
       "      <th>1561</th>\n",
       "      <td>46</td>\n",
       "      <td>admin.</td>\n",
       "      <td>5511</td>\n",
       "      <td>no</td>\n",
       "      <td>no</td>\n",
       "      <td>cellular</td>\n",
       "      <td>jul</td>\n",
       "      <td>2</td>\n",
       "      <td>389</td>\n",
       "      <td>success</td>\n",
       "      <td>Rarely Contacted</td>\n",
       "      <td>43 - 47</td>\n",
       "      <td>0</td>\n",
       "      <td>3998.551389</td>\n",
       "      <td>success_jul</td>\n",
       "      <td>46_admin.</td>\n",
       "      <td>cellular_jul</td>\n",
       "      <td>119.804348</td>\n",
       "      <td>-778</td>\n",
       "      <td>1</td>\n",
       "    </tr>\n",
       "    <tr>\n",
       "      <th>1562</th>\n",
       "      <td>39</td>\n",
       "      <td>services</td>\n",
       "      <td>410</td>\n",
       "      <td>no</td>\n",
       "      <td>no</td>\n",
       "      <td>unknown</td>\n",
       "      <td>jun</td>\n",
       "      <td>4</td>\n",
       "      <td>0</td>\n",
       "      <td>unknown</td>\n",
       "      <td>Moderately Contacted</td>\n",
       "      <td>38 - 42</td>\n",
       "      <td>0</td>\n",
       "      <td>1102.448611</td>\n",
       "      <td>unknown_jun</td>\n",
       "      <td>39_services</td>\n",
       "      <td>unknown_jun</td>\n",
       "      <td>10.512821</td>\n",
       "      <td>0</td>\n",
       "      <td>0</td>\n",
       "    </tr>\n",
       "  </tbody>\n",
       "</table>\n",
       "<p>1563 rows × 20 columns</p>\n",
       "</div>"
      ],
      "text/plain": [
       "      age          job  balance housing loan   contact month  campaign  pdays  \\\n",
       "0      32   management     -383     yes   no   unknown   may         1      0   \n",
       "1      37     services      608      no   no  cellular   may         3      0   \n",
       "2      31       admin.     -422     yes   no  cellular   may         2    329   \n",
       "3      30  blue-collar      128     yes   no   unknown   may         1      0   \n",
       "4      56   management     7747      no   no   unknown   jun         2      0   \n",
       "...   ...          ...      ...     ...  ...       ...   ...       ...    ...   \n",
       "1558   41   technician       30     yes   no  cellular   jul         1      0   \n",
       "1559   30   management      398      no   no  cellular   apr         2      0   \n",
       "1560   45   management       80      no  yes  cellular   nov         1      0   \n",
       "1561   46       admin.     5511      no   no  cellular   jul         2    389   \n",
       "1562   39     services      410      no   no   unknown   jun         4      0   \n",
       "\n",
       "     poutcome     contact_frequency age_interval  debt  \\\n",
       "0     unknown      Rarely Contacted      28 - 32     1   \n",
       "1     unknown  Moderately Contacted      33 - 37     0   \n",
       "2       other      Rarely Contacted      28 - 32     1   \n",
       "3     unknown      Rarely Contacted      28 - 32     1   \n",
       "4     unknown      Rarely Contacted      53 - 57     0   \n",
       "...       ...                   ...          ...   ...   \n",
       "1558  unknown      Rarely Contacted      38 - 42     1   \n",
       "1559  unknown      Rarely Contacted      28 - 32     0   \n",
       "1560  unknown      Rarely Contacted      43 - 47     1   \n",
       "1561  success      Rarely Contacted      43 - 47     0   \n",
       "1562  unknown  Moderately Contacted      38 - 42     0   \n",
       "\n",
       "      difference_balance_and_average poutcome_month         age_job  \\\n",
       "0                        1895.448611    unknown_may   32_management   \n",
       "1                         904.448611    unknown_may     37_services   \n",
       "2                        1934.448611      other_may       31_admin.   \n",
       "3                        1384.448611    unknown_may  30_blue-collar   \n",
       "4                        6234.551389    unknown_jun   56_management   \n",
       "...                              ...            ...             ...   \n",
       "1558                     1482.448611    unknown_jul   41_technician   \n",
       "1559                     1114.448611    unknown_apr   30_management   \n",
       "1560                     1432.448611    unknown_nov   45_management   \n",
       "1561                     3998.551389    success_jul       46_admin.   \n",
       "1562                     1102.448611    unknown_jun     39_services   \n",
       "\n",
       "     contact_month  balance_age_ratio  campaign_pdays  Predicted  \n",
       "0      unknown_may         -11.968750               0          0  \n",
       "1     cellular_may          16.432432               0          1  \n",
       "2     cellular_may         -13.612903            -658          0  \n",
       "3      unknown_may           4.266667               0          0  \n",
       "4      unknown_jun         138.339286               0          0  \n",
       "...            ...                ...             ...        ...  \n",
       "1558  cellular_jul           0.731707               0          0  \n",
       "1559  cellular_apr          13.266667               0          1  \n",
       "1560  cellular_nov           1.777778               0          0  \n",
       "1561  cellular_jul         119.804348            -778          1  \n",
       "1562   unknown_jun          10.512821               0          0  \n",
       "\n",
       "[1563 rows x 20 columns]"
      ]
     },
     "execution_count": 296,
     "metadata": {},
     "output_type": "execute_result"
    }
   ],
   "source": [
    "df_test"
   ]
  },
  {
   "cell_type": "code",
   "execution_count": null,
   "metadata": {},
   "outputs": [
    {
     "data": {
      "text/plain": [
       "poutcome  Predicted\n",
       "failure   0            0.535948\n",
       "          1            0.464052\n",
       "other     1            0.528736\n",
       "          0            0.471264\n",
       "success   1            1.000000\n",
       "unknown   0            0.721129\n",
       "          1            0.278871\n",
       "Name: Predicted, dtype: float64"
      ]
     },
     "execution_count": 291,
     "metadata": {},
     "output_type": "execute_result"
    }
   ],
   "source": [
    "df_test.groupby('poutcome')['Predicted'].value_counts(normalize = True)"
   ]
  },
  {
   "attachments": {},
   "cell_type": "markdown",
   "metadata": {},
   "source": [
    "Dapat dilihat bahwa dari feature importance, poutcome_success itu sendiri memiliki 22 % pengaruh untuk prediksi dari machine learning model yang dibuat dan dari hasil ini, juga dilihat bahwa semua prediksi yang dihasilkan merupakan angka 1 untuk poutcome_success **sehingga dapat disimpulkan bahwa poutcome_success ini memiliki pengaruh besar untuk menghasilkan prediksi berupa 1 yakni customer melakukan deposit. Perlu diberikan prioritas juga untuk poutcome_unknown dimana sekitar 72 % data yang memiliki poutcome_unknown diprediksi menghasilkan value 0 yakni customer tidak melakukan deposit sehingga hal ini juga dapat dijadikan dasar oleh bank untuk memprioritaskan customer dengan data poutcome_unknown**"
   ]
  },
  {
   "cell_type": "code",
   "execution_count": null,
   "metadata": {},
   "outputs": [
    {
     "data": {
      "text/plain": [
       "contact    Predicted\n",
       "cellular   0            593\n",
       "           1            526\n",
       "telephone  1             63\n",
       "           0             55\n",
       "unknown    0            318\n",
       "           1              8\n",
       "Name: Predicted, dtype: int64"
      ]
     },
     "execution_count": 294,
     "metadata": {},
     "output_type": "execute_result"
    }
   ],
   "source": [
    "df_test.groupby('contact')['Predicted'].value_counts()"
   ]
  },
  {
   "cell_type": "code",
   "execution_count": null,
   "metadata": {},
   "outputs": [
    {
     "data": {
      "text/plain": [
       "contact    Predicted\n",
       "cellular   0            0.529937\n",
       "           1            0.470063\n",
       "telephone  1            0.533898\n",
       "           0            0.466102\n",
       "unknown    0            0.975460\n",
       "           1            0.024540\n",
       "Name: Predicted, dtype: float64"
      ]
     },
     "execution_count": 292,
     "metadata": {},
     "output_type": "execute_result"
    }
   ],
   "source": [
    "df_test.groupby('contact')['Predicted'].value_counts(normalize = True)"
   ]
  },
  {
   "attachments": {},
   "cell_type": "markdown",
   "metadata": {},
   "source": [
    "Dapat dilihat bahwa dari feature importance, contact_unknown itu sendiri memiliki 14 % pengaruh untuk prediksi dari machine learning model yang dibuat dan dari hasil ini, juga dilihat bahwa sekitar 97 % dari prediksi yang dihasilkan berupa angka 0 untuk contact_unknown **sehingga dapat disimpulkan bahwa poutcome_unknown ini memliki pengaruh besar untuk menghasilkan prediksi berupa 0 yakni customer tidak melakukan deposit sehingga hal ini juga dapat dijadikan dasar oleh bank untuk memprioritaskan customer dengan data contact_unknown.**"
   ]
  },
  {
   "cell_type": "code",
   "execution_count": null,
   "metadata": {},
   "outputs": [
    {
     "data": {
      "text/plain": [
       "month  Predicted\n",
       "apr    1            0.620690\n",
       "       0            0.379310\n",
       "aug    0            0.658879\n",
       "       1            0.341121\n",
       "dec    1            1.000000\n",
       "feb    1            0.594595\n",
       "       0            0.405405\n",
       "jan    0            0.622222\n",
       "       1            0.377778\n",
       "jul    0            0.796537\n",
       "       1            0.203463\n",
       "jun    0            0.708075\n",
       "       1            0.291925\n",
       "mar    1            0.976190\n",
       "       0            0.023810\n",
       "may    0            0.836412\n",
       "       1            0.163588\n",
       "nov    0            0.640000\n",
       "       1            0.360000\n",
       "oct    1            1.000000\n",
       "sep    1            0.968750\n",
       "       0            0.031250\n",
       "Name: Predicted, dtype: float64"
      ]
     },
     "execution_count": 293,
     "metadata": {},
     "output_type": "execute_result"
    }
   ],
   "source": [
    "df_test.groupby('month')['Predicted'].value_counts(normalize = True)"
   ]
  },
  {
   "attachments": {},
   "cell_type": "markdown",
   "metadata": {},
   "source": [
    "Month ini merupakan data bulan terakhir customer dicontact dimana month ini sendiri memiliki 10 % pengaruh untuk prediksi dari model machine learning yang dibuat, dan dapat dilihat bahwa bulan april, agustus, januari, juli, juni, mei, dan november ini lebih cenderung menghasilkan prediksi nilai 0 yakni customer tidak melakukan deposit. **Hal ini dapat dijadikan dasar oleh bank untuk memprioritaskan customer yang dicontact pada bulan-bulan yang termasuk bulan yang disebutkan diatas.**"
   ]
  },
  {
   "cell_type": "code",
   "execution_count": null,
   "metadata": {},
   "outputs": [
    {
     "data": {
      "text/plain": [
       "0    0.706923\n",
       "1    0.293077\n",
       "Name: Predicted, dtype: float64"
      ]
     },
     "execution_count": 304,
     "metadata": {},
     "output_type": "execute_result"
    }
   ],
   "source": [
    "months_to_filter = ['apr', 'aug', 'jan', 'jul', 'jun', 'may', 'nov']\n",
    "df_test[df_test['month'].isin(months_to_filter)]['Predicted'].value_counts(normalize=True)"
   ]
  },
  {
   "cell_type": "code",
   "execution_count": null,
   "metadata": {},
   "outputs": [
    {
     "data": {
      "text/plain": [
       "1    0.821293\n",
       "0    0.178707\n",
       "Name: Predicted, dtype: float64"
      ]
     },
     "execution_count": 305,
     "metadata": {},
     "output_type": "execute_result"
    }
   ],
   "source": [
    "df_test[~df_test['month'].isin(months_to_filter)][ 'Predicted'].value_counts(normalize=True)"
   ]
  },
  {
   "attachments": {},
   "cell_type": "markdown",
   "metadata": {},
   "source": [
    "Dapat dilihat bahwa perbedaan untuk hasil prediksi value 1 yakni customer melakukan deposit memiliki perbedaan sekitar 53 % antara customer yang dicontact pada bulan-bulan yang termasuk dan yang tidak termasuk dari bulan yang disebutkan diatas."
   ]
  },
  {
   "attachments": {},
   "cell_type": "markdown",
   "metadata": {},
   "source": [
    "# Conclusion and Recommendation\n",
    "\n",
    "<h3> Conclusion </h3>\n",
    "\n",
    "Dari model machine learning yang telah dibuat, dapat ditarik beberapa kesimpulan yakni sebagai berikut :\n",
    "* Model machine learning dengan algoritma GradientBoostingClassifier mampu menghasilkan akurasi untuk prediksi data testing sebesar 74,79 %.\n",
    "* Dari feature importance, dapat dilihat bahwa feature poutcome_success, contact_unknown, dan month merupakan 3 feature dengan tingkat pengaruh terbesar untuk prediksi yang dihasilkan oleh model machine learning.\n",
    "* Kelemahan terbesar dari model machine learning yang dibuat adalah machine learning sering melakukan kesalahan pada untuk prediksi customer melakukan deposit (angka 1) dimana hasil seharusnya adalah customer tidak melakukan deposit (angka 0).\n",
    "* Apabila dilihat dari tingkat akurasi dan kelemahan terbesar dari model machine learning, data feature importance yang masih dapat dipercaya merupakan data-data dengan nilai importance besar (lebih dari 10 %) dikarenakan data-data dengan nilai importance besar ini tidak akan berubah dengan drastis sehingga nilai importance yang dihasilkan masih dapat terhitung besar apabila model machine learning ini dapat ditingkatkan untuk tingkat akurasi dari prediksinya.\n",
    "* contact_unknown memiliki 14 % pengaruh untuk prediksi dari machine learning model yang dibuat dan dari hasil ini, juga dilihat bahwa sekitar 97 % dari prediksi yang dihasilkan berupa customer tidak melakukan deposit (angka 0) untuk contact_unknown.\n",
    "* poutcome_success memiliki 22 % pengaruh untuk prediksi dari machine learning model yang dibuat dan dari hasil ini, juga dilihat bahwa semua prediksi yang dihasilkan merupakan angka 1 untuk poutcome_success.\n",
    "* Sekitar 72 % data yang memiliki poutcome_unknown diprediksi menghasilkan value 0 yakni customer tidak melakukan deposit.\n",
    "* month ini memiliki 10 % pengaruh untuk prediksi dari model machine learning yang dibuat, dan dapat dilihat bahwa bulan april, agustus, januari, juli, juni, mei, dan november ini lebih cenderung menghasilkan prediksi nilai 0 yakni customer tidak melakukan deposit.\n",
    "\n",
    "<h3> Recommendation </h3>\n",
    "Dari kesimpulan diatas, dapat ditarik beberapa rekomendasi yakni sebagai berikut :\n",
    "\n",
    "* Bank dapat memberikan perlakuan khusus untuk customer yang memiliki data contact_unknown, poutcome_success, dan yang memiliki bulan terakhir contact yang termasuk pada april, agustus, januari, juli, juni, mei, dan november untuk memperbesar kemungkinan customer dalam melakukan deposit.\n",
    "* Sebaiknya bank menerapkan standarisasi prosedur contact customer menggunakan telephone atau cellular dimana terlihat dari data contact_unknown yang 97 % diprediksikan untuk menghasilkan value 0 yakni customer tidak melakukan deposit sedangkan penggunaan telephone atau cellular memiliki angka sekitar 50 % untuk prediksi value 1 ataupun 0 dimana apabila dilihat dari angka hasil prediksi untuk contact unknown yakni 318 customer diprediksi tidak melakukan deposit dapat dikurangi sekitar 50 % apabila menggunakan telephone atau cellular sehingga berpotensi menambah sekitar 159 customer yang melakukan prediksi (dari proporsi data testing yang diprediksi sebesar 1563, maka diperkirakan rekomendasi ini mampu meningkatkan sekitar 10 % jumlah customer yang melakukan deposit).\n",
    "* Sebaiknya, bank melakukan contact customer pada bulan-bulan yang tidak termasuk pada bulan april, agustus, januari, juli, juni, mei, dan november dimana hal ini berpotensi untuk meningkatkan sekitar 53 % untuk jumlah customer yang melakukan deposit berdasarkan hasil prediksi model machine learning yang ada.\n"
   ]
  },
  {
   "attachments": {},
   "cell_type": "markdown",
   "metadata": {},
   "source": [
    "# Deployment"
   ]
  },
  {
   "cell_type": "code",
   "execution_count": null,
   "metadata": {},
   "outputs": [],
   "source": [
    "import pickle\n",
    "model_filepath = 'Capstone_Project_Modul3_model.pkl'\n",
    "\n",
    "with open(model_filepath, 'wb') as file:\n",
    "    pickle.dump(best_ens, file)"
   ]
  }
 ],
 "metadata": {
  "kernelspec": {
   "display_name": "Python 3",
   "language": "python",
   "name": "python3"
  },
  "language_info": {
   "codemirror_mode": {
    "name": "ipython",
    "version": 3
   },
   "file_extension": ".py",
   "mimetype": "text/x-python",
   "name": "python",
   "nbconvert_exporter": "python",
   "pygments_lexer": "ipython3",
   "version": "3.10.4"
  },
  "orig_nbformat": 4
 },
 "nbformat": 4,
 "nbformat_minor": 2
}
