{
 "cells": [
  {
   "cell_type": "code",
   "execution_count": 1,
   "metadata": {},
   "outputs": [],
   "source": [
    "import pandas as pd\n",
    "import matplotlib.pyplot as plt\n",
    "import seaborn as sns\n",
    "from sklearn.metrics import  confusion_matrix, accuracy_score, classification_report\n",
    "import warnings\n",
    "from sklearn.model_selection import train_test_split\n",
    "import numpy as np"
   ]
  },
  {
   "cell_type": "code",
   "execution_count": 2,
   "metadata": {},
   "outputs": [],
   "source": [
    "warnings.filterwarnings(\"ignore\")"
   ]
  },
  {
   "attachments": {},
   "cell_type": "markdown",
   "metadata": {},
   "source": [
    "# Feature Engineering"
   ]
  },
  {
   "cell_type": "code",
   "execution_count": 3,
   "metadata": {},
   "outputs": [],
   "source": [
    "df = pd.read_csv('data_bank_marketing_campaign.csv')\n",
    "def contact_frequency(x):\n",
    "    if x > 0 and x < 3:\n",
    "        return \"Rarely Contacted\"\n",
    "    elif x >= 3 and x <= 5:\n",
    "        return \"Moderately Contacted\"\n",
    "    else:\n",
    "        return \"Frequently Contacted\"\n",
    "df['contact_frequency'] = df['campaign'].apply(contact_frequency)\n",
    "df['pdays'] = df['pdays'].apply(lambda x : 0 if x == -1 else x)\n",
    "bin_edges = range(18, 100, 5) \n",
    "labels = [f\"{start} - {start + 4}\" for start in bin_edges[:-1]]\n",
    "df['age_interval'] = pd.cut(df['age'], bins=bin_edges, labels=labels, right=False)\n",
    "df['deposit'] = df['deposit'].apply(lambda x: 1 if x == 'yes' else 0)\n",
    "df['debt'] = ((df['loan'] == 'yes') | (df['housing'] == 'yes')).astype(int)\n",
    "df['difference_balance_and_average'] = np.abs(df['balance'] - df['balance'].mean())\n",
    "df['poutcome_month'] = df['poutcome'] + '_' + df['month']\n",
    "df['age_job'] = df['age'].astype(str) + '_' + df['job']\n",
    "df['contact_month'] = df['contact'] + '_' + df['month']\n",
    "df['balance_age_ratio'] = df['balance'] / df['age']\n",
    "df['campaign_pdays'] = (df['campaign'] * -1) * df['pdays']\n",
    "feature = df.drop(columns='deposit')\n",
    "target = df['deposit']\n",
    "X_train, X_test, y_train, y_test = train_test_split(feature, target, test_size = 0.2, random_state = 42, stratify= target)"
   ]
  },
  {
   "attachments": {},
   "cell_type": "markdown",
   "metadata": {},
   "source": [
    "# Model Usage"
   ]
  },
  {
   "cell_type": "code",
   "execution_count": 4,
   "metadata": {},
   "outputs": [
    {
     "data": {
      "image/png": "[encoded data removed]",
      "text/plain": [
       "<Figure size 576x432 with 2 Axes>"
      ]
     },
     "metadata": {
      "needs_background": "light"
     },
     "output_type": "display_data"
    },
    {
     "name": "stdout",
     "output_type": "stream",
     "text": [
      "Classification Report:\n",
      "              precision    recall  f1-score   support\n",
      "\n",
      "           0       0.72      0.85      0.78       816\n",
      "           1       0.80      0.64      0.71       747\n",
      "\n",
      "    accuracy                           0.75      1563\n",
      "   macro avg       0.76      0.74      0.74      1563\n",
      "weighted avg       0.76      0.75      0.74      1563\n",
      "\n",
      "Test Accuracy :  0.7479206653870761\n"
     ]
    }
   ],
   "source": [
    "import pickle\n",
    "\n",
    "model_filepath = 'Capstone_Project_Modul3_model.pkl'\n",
    "with open(model_filepath, 'rb') as file:\n",
    "    loaded_model = pickle.load(file)\n",
    "\n",
    "test_prediction = loaded_model.predict(X_test)\n",
    "test_accuracy = accuracy_score(y_test, test_prediction)\n",
    "cm = confusion_matrix(y_test, test_prediction)\n",
    "classification_rep = classification_report(y_test, test_prediction)\n",
    "\n",
    "plt.figure(figsize=(8,6))\n",
    "sns.heatmap(cm, annot=True, fmt='g', cmap='Blues')\n",
    "plt.xlabel('Predicted')\n",
    "plt.ylabel('True')\n",
    "plt.title(\"Model - Confusion Matrix\")\n",
    "plt.show()\n",
    "\n",
    "print(\"Classification Report:\")\n",
    "print(classification_rep)\n",
    "\n",
    "print(\"Test Accuracy : \", test_accuracy)"
   ]
  }
 ],
 "metadata": {
  "kernelspec": {
   "display_name": "Python 3",
   "language": "python",
   "name": "python3"
  },
  "language_info": {
   "codemirror_mode": {
    "name": "ipython",
    "version": 3
   },
   "file_extension": ".py",
   "mimetype": "text/x-python",
   "name": "python",
   "nbconvert_exporter": "python",
   "pygments_lexer": "ipython3",
   "version": "3.10.4"
  },
  "orig_nbformat": 4
 },
 "nbformat": 4,
 "nbformat_minor": 2
}
